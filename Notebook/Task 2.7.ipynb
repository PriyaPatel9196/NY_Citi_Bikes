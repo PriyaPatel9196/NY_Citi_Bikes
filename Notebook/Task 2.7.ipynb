{
 "cells": [
  {
   "cell_type": "markdown",
   "id": "9c287c58-2aea-4bf1-a033-661b4ce4b9a8",
   "metadata": {},
   "source": [
    "## Final Notebook"
   ]
  },
  {
   "cell_type": "markdown",
   "id": "3193ef5b-8f49-40ac-b10d-980c11fff4a6",
   "metadata": {},
   "source": [
    "### Import Libraries"
   ]
  },
  {
   "cell_type": "code",
   "execution_count": 1,
   "id": "01f01402-b2b9-486a-84dd-a2a140322b87",
   "metadata": {},
   "outputs": [],
   "source": [
    "import pandas as pd\n",
    "import numpy as np"
   ]
  },
  {
   "cell_type": "code",
   "execution_count": 3,
   "id": "a53b5a04-c860-4886-bd67-dc1d86171530",
   "metadata": {},
   "outputs": [],
   "source": [
    "df = pd.read_csv('C:/Users/Priya/CF Work/NY_Citi_Bikes/Data/nyc_data.csv', index_col = 0)"
   ]
  },
  {
   "cell_type": "code",
   "execution_count": 4,
   "id": "87fc332d-1ce5-4ea1-a58b-494c86021893",
   "metadata": {},
   "outputs": [
    {
     "data": {
      "text/plain": [
       "(895485, 18)"
      ]
     },
     "execution_count": 4,
     "metadata": {},
     "output_type": "execute_result"
    }
   ],
   "source": [
    "df.shape"
   ]
  },
  {
   "cell_type": "markdown",
   "id": "b1c02f03-311f-403a-ac8e-a98a356763c8",
   "metadata": {},
   "source": [
    "## Wrangling"
   ]
  },
  {
   "cell_type": "code",
   "execution_count": 5,
   "id": "b4e3eb0f-3889-4d62-ab53-b768e282c314",
   "metadata": {},
   "outputs": [],
   "source": [
    "# Create a month column \n",
    "\n",
    "df['date'] = pd.to_datetime(df['date'], format = '%Y-%m-%d')\n",
    "df['month'] = df['date'].dt.month\n",
    "df['month'] = df['month'].astype('int')"
   ]
  },
  {
   "cell_type": "code",
   "execution_count": 6,
   "id": "ec6591fe-bc16-4de9-ad3d-0bd4991ccf21",
   "metadata": {},
   "outputs": [],
   "source": [
    "# Create the season column\n",
    "\n",
    "df['season'] = [\n",
    "\"winter\" if (month == 12 or 1 <= month <= 2)\n",
    "    else \"spring\" if (3 < month <= 5)\n",
    "    else \"summer\" if (6 <= month <= 8)\n",
    "    else \"fall\"\n",
    "for month in df['month']\n",
    "    ]"
   ]
  },
  {
   "cell_type": "code",
   "execution_count": 7,
   "id": "541c4d81-35b1-4d21-8dd2-e6b73872f9be",
   "metadata": {},
   "outputs": [
    {
     "data": {
      "text/html": [
       "<div>\n",
       "<style scoped>\n",
       "    .dataframe tbody tr th:only-of-type {\n",
       "        vertical-align: middle;\n",
       "    }\n",
       "\n",
       "    .dataframe tbody tr th {\n",
       "        vertical-align: top;\n",
       "    }\n",
       "\n",
       "    .dataframe thead th {\n",
       "        text-align: right;\n",
       "    }\n",
       "</style>\n",
       "<table border=\"1\" class=\"dataframe\">\n",
       "  <thead>\n",
       "    <tr style=\"text-align: right;\">\n",
       "      <th></th>\n",
       "      <th>ride_id</th>\n",
       "      <th>rideable_type</th>\n",
       "      <th>started_at</th>\n",
       "      <th>ended_at</th>\n",
       "      <th>start_station_name</th>\n",
       "      <th>start_station_id</th>\n",
       "      <th>end_station_name</th>\n",
       "      <th>end_station_id</th>\n",
       "      <th>start_lat</th>\n",
       "      <th>start_lng</th>\n",
       "      <th>end_lat</th>\n",
       "      <th>end_lng</th>\n",
       "      <th>member_casual</th>\n",
       "      <th>start_time</th>\n",
       "      <th>date</th>\n",
       "      <th>end_time</th>\n",
       "      <th>avgTemp</th>\n",
       "      <th>_merge</th>\n",
       "      <th>month</th>\n",
       "      <th>season</th>\n",
       "    </tr>\n",
       "  </thead>\n",
       "  <tbody>\n",
       "    <tr>\n",
       "      <th>0</th>\n",
       "      <td>CA5837152804D4B5</td>\n",
       "      <td>electric_bike</td>\n",
       "      <td>2022-01-26 18:50:39</td>\n",
       "      <td>2022-01-26 18:51:53</td>\n",
       "      <td>12 St &amp; Sinatra Dr N</td>\n",
       "      <td>HB201</td>\n",
       "      <td>12 St &amp; Sinatra Dr N</td>\n",
       "      <td>HB201</td>\n",
       "      <td>40.750604</td>\n",
       "      <td>-74.024020</td>\n",
       "      <td>40.750604</td>\n",
       "      <td>-74.024020</td>\n",
       "      <td>member</td>\n",
       "      <td>2022-01-26 18:50:39</td>\n",
       "      <td>2022-01-26</td>\n",
       "      <td>2022-01-26 18:51:53</td>\n",
       "      <td>-2.3</td>\n",
       "      <td>both</td>\n",
       "      <td>1</td>\n",
       "      <td>winter</td>\n",
       "    </tr>\n",
       "    <tr>\n",
       "      <th>1</th>\n",
       "      <td>BA06A5E45B6601D2</td>\n",
       "      <td>classic_bike</td>\n",
       "      <td>2022-01-28 13:14:07</td>\n",
       "      <td>2022-01-28 13:20:23</td>\n",
       "      <td>Essex Light Rail</td>\n",
       "      <td>JC038</td>\n",
       "      <td>Essex Light Rail</td>\n",
       "      <td>JC038</td>\n",
       "      <td>40.712774</td>\n",
       "      <td>-74.036486</td>\n",
       "      <td>40.712774</td>\n",
       "      <td>-74.036486</td>\n",
       "      <td>member</td>\n",
       "      <td>2022-01-28 13:14:07</td>\n",
       "      <td>2022-01-28</td>\n",
       "      <td>2022-01-28 13:20:23</td>\n",
       "      <td>0.1</td>\n",
       "      <td>both</td>\n",
       "      <td>1</td>\n",
       "      <td>winter</td>\n",
       "    </tr>\n",
       "    <tr>\n",
       "      <th>2</th>\n",
       "      <td>7B6827D7B9508D93</td>\n",
       "      <td>classic_bike</td>\n",
       "      <td>2022-01-10 19:55:13</td>\n",
       "      <td>2022-01-10 20:00:37</td>\n",
       "      <td>Essex Light Rail</td>\n",
       "      <td>JC038</td>\n",
       "      <td>Essex Light Rail</td>\n",
       "      <td>JC038</td>\n",
       "      <td>40.712774</td>\n",
       "      <td>-74.036486</td>\n",
       "      <td>40.712774</td>\n",
       "      <td>-74.036486</td>\n",
       "      <td>member</td>\n",
       "      <td>2022-01-10 19:55:13</td>\n",
       "      <td>2022-01-10</td>\n",
       "      <td>2022-01-10 20:00:37</td>\n",
       "      <td>1.6</td>\n",
       "      <td>both</td>\n",
       "      <td>1</td>\n",
       "      <td>winter</td>\n",
       "    </tr>\n",
       "    <tr>\n",
       "      <th>3</th>\n",
       "      <td>6E5864EA6FCEC90D</td>\n",
       "      <td>electric_bike</td>\n",
       "      <td>2022-01-26 07:54:57</td>\n",
       "      <td>2022-01-26 07:55:22</td>\n",
       "      <td>12 St &amp; Sinatra Dr N</td>\n",
       "      <td>HB201</td>\n",
       "      <td>12 St &amp; Sinatra Dr N</td>\n",
       "      <td>HB201</td>\n",
       "      <td>40.750604</td>\n",
       "      <td>-74.024020</td>\n",
       "      <td>40.750604</td>\n",
       "      <td>-74.024020</td>\n",
       "      <td>member</td>\n",
       "      <td>2022-01-26 07:54:57</td>\n",
       "      <td>2022-01-26</td>\n",
       "      <td>2022-01-26 07:55:22</td>\n",
       "      <td>-2.3</td>\n",
       "      <td>both</td>\n",
       "      <td>1</td>\n",
       "      <td>winter</td>\n",
       "    </tr>\n",
       "    <tr>\n",
       "      <th>4</th>\n",
       "      <td>E24954255BBDE32D</td>\n",
       "      <td>electric_bike</td>\n",
       "      <td>2022-01-13 18:44:46</td>\n",
       "      <td>2022-01-13 18:45:43</td>\n",
       "      <td>12 St &amp; Sinatra Dr N</td>\n",
       "      <td>HB201</td>\n",
       "      <td>12 St &amp; Sinatra Dr N</td>\n",
       "      <td>HB201</td>\n",
       "      <td>40.750604</td>\n",
       "      <td>-74.024020</td>\n",
       "      <td>40.750604</td>\n",
       "      <td>-74.024020</td>\n",
       "      <td>member</td>\n",
       "      <td>2022-01-13 18:44:46</td>\n",
       "      <td>2022-01-13</td>\n",
       "      <td>2022-01-13 18:45:43</td>\n",
       "      <td>4.0</td>\n",
       "      <td>both</td>\n",
       "      <td>1</td>\n",
       "      <td>winter</td>\n",
       "    </tr>\n",
       "  </tbody>\n",
       "</table>\n",
       "</div>"
      ],
      "text/plain": [
       "            ride_id  rideable_type           started_at             ended_at  \\\n",
       "0  CA5837152804D4B5  electric_bike  2022-01-26 18:50:39  2022-01-26 18:51:53   \n",
       "1  BA06A5E45B6601D2   classic_bike  2022-01-28 13:14:07  2022-01-28 13:20:23   \n",
       "2  7B6827D7B9508D93   classic_bike  2022-01-10 19:55:13  2022-01-10 20:00:37   \n",
       "3  6E5864EA6FCEC90D  electric_bike  2022-01-26 07:54:57  2022-01-26 07:55:22   \n",
       "4  E24954255BBDE32D  electric_bike  2022-01-13 18:44:46  2022-01-13 18:45:43   \n",
       "\n",
       "     start_station_name start_station_id      end_station_name end_station_id  \\\n",
       "0  12 St & Sinatra Dr N            HB201  12 St & Sinatra Dr N          HB201   \n",
       "1      Essex Light Rail            JC038      Essex Light Rail          JC038   \n",
       "2      Essex Light Rail            JC038      Essex Light Rail          JC038   \n",
       "3  12 St & Sinatra Dr N            HB201  12 St & Sinatra Dr N          HB201   \n",
       "4  12 St & Sinatra Dr N            HB201  12 St & Sinatra Dr N          HB201   \n",
       "\n",
       "   start_lat  start_lng    end_lat    end_lng member_casual  \\\n",
       "0  40.750604 -74.024020  40.750604 -74.024020        member   \n",
       "1  40.712774 -74.036486  40.712774 -74.036486        member   \n",
       "2  40.712774 -74.036486  40.712774 -74.036486        member   \n",
       "3  40.750604 -74.024020  40.750604 -74.024020        member   \n",
       "4  40.750604 -74.024020  40.750604 -74.024020        member   \n",
       "\n",
       "            start_time       date             end_time  avgTemp _merge  month  \\\n",
       "0  2022-01-26 18:50:39 2022-01-26  2022-01-26 18:51:53     -2.3   both      1   \n",
       "1  2022-01-28 13:14:07 2022-01-28  2022-01-28 13:20:23      0.1   both      1   \n",
       "2  2022-01-10 19:55:13 2022-01-10  2022-01-10 20:00:37      1.6   both      1   \n",
       "3  2022-01-26 07:54:57 2022-01-26  2022-01-26 07:55:22     -2.3   both      1   \n",
       "4  2022-01-13 18:44:46 2022-01-13  2022-01-13 18:45:43      4.0   both      1   \n",
       "\n",
       "   season  \n",
       "0  winter  \n",
       "1  winter  \n",
       "2  winter  \n",
       "3  winter  \n",
       "4  winter  "
      ]
     },
     "execution_count": 7,
     "metadata": {},
     "output_type": "execute_result"
    }
   ],
   "source": [
    "df.head()"
   ]
  },
  {
   "cell_type": "code",
   "execution_count": 8,
   "id": "b5af60bb-2f2d-45f4-a6be-b70862e6804c",
   "metadata": {},
   "outputs": [],
   "source": [
    "# Create a copy with fewer columns \n",
    "\n",
    "df_1 = df.drop(columns = {'ride_id', 'rideable_type', 'started_at', 'ended_at', 'start_station_id', 'end_station_id',\n",
    "'member_casual', 'start_time', 'end_time'})"
   ]
  },
  {
   "cell_type": "code",
   "execution_count": 9,
   "id": "8860ce85-beba-42d5-abc9-a95b07ab530f",
   "metadata": {},
   "outputs": [],
   "source": [
    "np.random.seed(32)\n",
    "red = np.random.rand(len(df_1)) <= 0.92"
   ]
  },
  {
   "cell_type": "code",
   "execution_count": 10,
   "id": "53047169-7777-41ed-b878-474a55bc9269",
   "metadata": {},
   "outputs": [],
   "source": [
    "small = df_1[~red]"
   ]
  },
  {
   "cell_type": "code",
   "execution_count": 11,
   "id": "1abf9e46-c233-4bd5-ba4a-e15e98b02595",
   "metadata": {},
   "outputs": [
    {
     "data": {
      "text/plain": [
       "(71391, 11)"
      ]
     },
     "execution_count": 11,
     "metadata": {},
     "output_type": "execute_result"
    }
   ],
   "source": [
    "small.shape"
   ]
  },
  {
   "cell_type": "code",
   "execution_count": 12,
   "id": "dfef2dfc-2a18-4249-a9fa-0a6fb17f4e64",
   "metadata": {},
   "outputs": [
    {
     "data": {
      "text/html": [
       "<div>\n",
       "<style scoped>\n",
       "    .dataframe tbody tr th:only-of-type {\n",
       "        vertical-align: middle;\n",
       "    }\n",
       "\n",
       "    .dataframe tbody tr th {\n",
       "        vertical-align: top;\n",
       "    }\n",
       "\n",
       "    .dataframe thead th {\n",
       "        text-align: right;\n",
       "    }\n",
       "</style>\n",
       "<table border=\"1\" class=\"dataframe\">\n",
       "  <thead>\n",
       "    <tr style=\"text-align: right;\">\n",
       "      <th></th>\n",
       "      <th>start_station_name</th>\n",
       "      <th>end_station_name</th>\n",
       "      <th>start_lat</th>\n",
       "      <th>start_lng</th>\n",
       "      <th>end_lat</th>\n",
       "      <th>end_lng</th>\n",
       "      <th>date</th>\n",
       "      <th>avgTemp</th>\n",
       "      <th>_merge</th>\n",
       "      <th>month</th>\n",
       "      <th>season</th>\n",
       "    </tr>\n",
       "  </thead>\n",
       "  <tbody>\n",
       "    <tr>\n",
       "      <th>3</th>\n",
       "      <td>12 St &amp; Sinatra Dr N</td>\n",
       "      <td>12 St &amp; Sinatra Dr N</td>\n",
       "      <td>40.750604</td>\n",
       "      <td>-74.024020</td>\n",
       "      <td>40.750604</td>\n",
       "      <td>-74.024020</td>\n",
       "      <td>2022-01-26</td>\n",
       "      <td>-2.3</td>\n",
       "      <td>both</td>\n",
       "      <td>1</td>\n",
       "      <td>winter</td>\n",
       "    </tr>\n",
       "    <tr>\n",
       "      <th>7</th>\n",
       "      <td>12 St &amp; Sinatra Dr N</td>\n",
       "      <td>12 St &amp; Sinatra Dr N</td>\n",
       "      <td>40.750604</td>\n",
       "      <td>-74.024020</td>\n",
       "      <td>40.750604</td>\n",
       "      <td>-74.024020</td>\n",
       "      <td>2022-01-16</td>\n",
       "      <td>-8.0</td>\n",
       "      <td>both</td>\n",
       "      <td>1</td>\n",
       "      <td>winter</td>\n",
       "    </tr>\n",
       "    <tr>\n",
       "      <th>25</th>\n",
       "      <td>Essex Light Rail</td>\n",
       "      <td>Essex Light Rail</td>\n",
       "      <td>40.712774</td>\n",
       "      <td>-74.036486</td>\n",
       "      <td>40.712774</td>\n",
       "      <td>-74.036486</td>\n",
       "      <td>2022-01-17</td>\n",
       "      <td>3.9</td>\n",
       "      <td>both</td>\n",
       "      <td>1</td>\n",
       "      <td>winter</td>\n",
       "    </tr>\n",
       "    <tr>\n",
       "      <th>44</th>\n",
       "      <td>Christ Hospital</td>\n",
       "      <td>Pershing Field</td>\n",
       "      <td>40.734786</td>\n",
       "      <td>-74.050444</td>\n",
       "      <td>40.742677</td>\n",
       "      <td>-74.051789</td>\n",
       "      <td>2022-01-20</td>\n",
       "      <td>5.1</td>\n",
       "      <td>both</td>\n",
       "      <td>1</td>\n",
       "      <td>winter</td>\n",
       "    </tr>\n",
       "    <tr>\n",
       "      <th>58</th>\n",
       "      <td>Essex Light Rail</td>\n",
       "      <td>Washington St</td>\n",
       "      <td>40.712774</td>\n",
       "      <td>-74.036486</td>\n",
       "      <td>40.724294</td>\n",
       "      <td>-74.035483</td>\n",
       "      <td>2022-01-31</td>\n",
       "      <td>-3.4</td>\n",
       "      <td>both</td>\n",
       "      <td>1</td>\n",
       "      <td>winter</td>\n",
       "    </tr>\n",
       "  </tbody>\n",
       "</table>\n",
       "</div>"
      ],
      "text/plain": [
       "      start_station_name      end_station_name  start_lat  start_lng  \\\n",
       "3   12 St & Sinatra Dr N  12 St & Sinatra Dr N  40.750604 -74.024020   \n",
       "7   12 St & Sinatra Dr N  12 St & Sinatra Dr N  40.750604 -74.024020   \n",
       "25      Essex Light Rail      Essex Light Rail  40.712774 -74.036486   \n",
       "44       Christ Hospital        Pershing Field  40.734786 -74.050444   \n",
       "58      Essex Light Rail         Washington St  40.712774 -74.036486   \n",
       "\n",
       "      end_lat    end_lng       date  avgTemp _merge  month  season  \n",
       "3   40.750604 -74.024020 2022-01-26     -2.3   both      1  winter  \n",
       "7   40.750604 -74.024020 2022-01-16     -8.0   both      1  winter  \n",
       "25  40.712774 -74.036486 2022-01-17      3.9   both      1  winter  \n",
       "44  40.742677 -74.051789 2022-01-20      5.1   both      1  winter  \n",
       "58  40.724294 -74.035483 2022-01-31     -3.4   both      1  winter  "
      ]
     },
     "execution_count": 12,
     "metadata": {},
     "output_type": "execute_result"
    }
   ],
   "source": [
    "small.head()"
   ]
  },
  {
   "cell_type": "code",
   "execution_count": 13,
   "id": "30669dbe-4608-40ce-a644-17e197680e7c",
   "metadata": {},
   "outputs": [],
   "source": [
    "small.to_csv('reduced_data_to_plot_7.csv',index = False)"
   ]
  },
  {
   "cell_type": "code",
   "execution_count": 14,
   "id": "71ae1858-93b4-477e-853e-2839562b6891",
   "metadata": {},
   "outputs": [
    {
     "name": "stdout",
     "output_type": "stream",
     "text": [
      "season\n",
      "fall      25120\n",
      "spring    11549\n",
      "summer    26124\n",
      "winter     8598\n",
      "dtype: int64\n"
     ]
    }
   ],
   "source": [
    "# Display the number of rides by season\n",
    "\n",
    "print(small.groupby('season').size())"
   ]
  },
  {
   "cell_type": "code",
   "execution_count": 15,
   "id": "96f2700f-1113-429e-a356-77fc4505c248",
   "metadata": {},
   "outputs": [
    {
     "name": "stdout",
     "output_type": "stream",
     "text": [
      "month\n",
      "1     2137\n",
      "2     2474\n",
      "3     4046\n",
      "4     5018\n",
      "5     6531\n",
      "6     8303\n",
      "7     8614\n",
      "8     9207\n",
      "9     8263\n",
      "10    7131\n",
      "11    5680\n",
      "12    3987\n",
      "dtype: int64\n"
     ]
    }
   ],
   "source": [
    "# Display the number of rides by month\n",
    "\n",
    "print(small.groupby('month').size())"
   ]
  },
  {
   "cell_type": "code",
   "execution_count": null,
   "id": "ca83ba32-4105-4551-8dcb-c6040ff0826a",
   "metadata": {},
   "outputs": [],
   "source": []
  }
 ],
 "metadata": {
  "kernelspec": {
   "display_name": "Python 3 (ipykernel)",
   "language": "python",
   "name": "python3"
  },
  "language_info": {
   "codemirror_mode": {
    "name": "ipython",
    "version": 3
   },
   "file_extension": ".py",
   "mimetype": "text/x-python",
   "name": "python",
   "nbconvert_exporter": "python",
   "pygments_lexer": "ipython3",
   "version": "3.11.10"
  }
 },
 "nbformat": 4,
 "nbformat_minor": 5
}
