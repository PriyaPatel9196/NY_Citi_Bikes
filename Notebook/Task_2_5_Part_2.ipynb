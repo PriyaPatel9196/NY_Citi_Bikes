{
  "nbformat": 4,
  "nbformat_minor": 0,
  "metadata": {
    "colab": {
      "provenance": []
    },
    "kernelspec": {
      "name": "python3",
      "display_name": "Python 3"
    },
    "language_info": {
      "name": "python"
    },
    "widgets": {
      "application/vnd.jupyter.widget-state+json": {
        "e325e357e86a46c2a574868a26b2ba0f": {
          "model_module": "keplergl-jupyter",
          "model_name": "KeplerGlModal",
          "model_module_version": "^0.3.2",
          "state": {
            "_dom_classes": [],
            "_model_module": "keplergl-jupyter",
            "_model_module_version": "^0.3.2",
            "_model_name": "KeplerGlModal",
            "_view_count": null,
            "_view_module": "keplergl-jupyter",
            "_view_module_version": "^0.3.2",
            "_view_name": "KeplerGlView",
            "config": {
              "version": "v1",
              "config": {
                "visState": {
                  "filters": [],
                  "layers": [
                    {
                      "id": "mr6xno",
                      "type": "point",
                      "config": {
                        "dataId": "data_1",
                        "label": "start",
                        "color": [
                          18,
                          147,
                          154
                        ],
                        "highlightColor": [
                          252,
                          242,
                          26,
                          255
                        ],
                        "columns": {
                          "lat": "start_lat",
                          "lng": "start_lng",
                          "altitude": null
                        },
                        "isVisible": true,
                        "visConfig": {
                          "radius": 10,
                          "fixedRadius": false,
                          "opacity": 0.8,
                          "outline": false,
                          "thickness": 2,
                          "strokeColor": null,
                          "colorRange": {
                            "name": "Global Warming",
                            "type": "sequential",
                            "category": "Uber",
                            "colors": [
                              "#5A1846",
                              "#900C3F",
                              "#C70039",
                              "#E3611C",
                              "#F1920E",
                              "#FFC300"
                            ]
                          },
                          "strokeColorRange": {
                            "name": "Global Warming",
                            "type": "sequential",
                            "category": "Uber",
                            "colors": [
                              "#5A1846",
                              "#900C3F",
                              "#C70039",
                              "#E3611C",
                              "#F1920E",
                              "#FFC300"
                            ]
                          },
                          "radiusRange": [
                            0,
                            50
                          ],
                          "filled": true
                        },
                        "hidden": false,
                        "textLabel": [
                          {
                            "field": null,
                            "color": [
                              255,
                              255,
                              255
                            ],
                            "size": 18,
                            "offset": [
                              0,
                              0
                            ],
                            "anchor": "start",
                            "alignment": "center"
                          }
                        ]
                      },
                      "visualChannels": {
                        "colorField": {
                          "name": "trips",
                          "type": "integer"
                        },
                        "colorScale": "quantile",
                        "strokeColorField": null,
                        "strokeColorScale": "quantile",
                        "sizeField": null,
                        "sizeScale": "linear"
                      }
                    },
                    {
                      "id": "2qxnb7",
                      "type": "point",
                      "config": {
                        "dataId": "data_1",
                        "label": "end",
                        "color": [
                          221,
                          178,
                          124
                        ],
                        "highlightColor": [
                          252,
                          242,
                          26,
                          255
                        ],
                        "columns": {
                          "lat": "end_lat",
                          "lng": "end_lng",
                          "altitude": null
                        },
                        "isVisible": false,
                        "visConfig": {
                          "radius": 10,
                          "fixedRadius": false,
                          "opacity": 0.8,
                          "outline": false,
                          "thickness": 2,
                          "strokeColor": null,
                          "colorRange": {
                            "name": "Global Warming",
                            "type": "sequential",
                            "category": "Uber",
                            "colors": [
                              "#5A1846",
                              "#900C3F",
                              "#C70039",
                              "#E3611C",
                              "#F1920E",
                              "#FFC300"
                            ]
                          },
                          "strokeColorRange": {
                            "name": "Global Warming",
                            "type": "sequential",
                            "category": "Uber",
                            "colors": [
                              "#5A1846",
                              "#900C3F",
                              "#C70039",
                              "#E3611C",
                              "#F1920E",
                              "#FFC300"
                            ]
                          },
                          "radiusRange": [
                            0,
                            50
                          ],
                          "filled": true
                        },
                        "hidden": false,
                        "textLabel": [
                          {
                            "field": null,
                            "color": [
                              255,
                              255,
                              255
                            ],
                            "size": 18,
                            "offset": [
                              0,
                              0
                            ],
                            "anchor": "start",
                            "alignment": "center"
                          }
                        ]
                      },
                      "visualChannels": {
                        "colorField": {
                          "name": "trips",
                          "type": "integer"
                        },
                        "colorScale": "quantile",
                        "strokeColorField": null,
                        "strokeColorScale": "quantile",
                        "sizeField": null,
                        "sizeScale": "linear"
                      }
                    },
                    {
                      "id": "ej84i5w",
                      "type": "arc",
                      "config": {
                        "dataId": "data_1",
                        "label": "start -> end arc",
                        "color": [
                          146,
                          38,
                          198
                        ],
                        "highlightColor": [
                          252,
                          242,
                          26,
                          255
                        ],
                        "columns": {
                          "lat0": "start_lat",
                          "lng0": "start_lng",
                          "lat1": "end_lat",
                          "lng1": "end_lng"
                        },
                        "isVisible": false,
                        "visConfig": {
                          "opacity": 0.8,
                          "thickness": 2,
                          "colorRange": {
                            "name": "Global Warming",
                            "type": "sequential",
                            "category": "Uber",
                            "colors": [
                              "#5A1846",
                              "#900C3F",
                              "#C70039",
                              "#E3611C",
                              "#F1920E",
                              "#FFC300"
                            ]
                          },
                          "sizeRange": [
                            0,
                            10
                          ],
                          "targetColor": null
                        },
                        "hidden": false,
                        "textLabel": [
                          {
                            "field": null,
                            "color": [
                              255,
                              255,
                              255
                            ],
                            "size": 18,
                            "offset": [
                              0,
                              0
                            ],
                            "anchor": "start",
                            "alignment": "center"
                          }
                        ]
                      },
                      "visualChannels": {
                        "colorField": null,
                        "colorScale": "quantile",
                        "sizeField": null,
                        "sizeScale": "linear"
                      }
                    },
                    {
                      "id": "qoowjt",
                      "type": "line",
                      "config": {
                        "dataId": "data_1",
                        "label": "start -> end line",
                        "color": [
                          136,
                          87,
                          44
                        ],
                        "highlightColor": [
                          252,
                          242,
                          26,
                          255
                        ],
                        "columns": {
                          "lat0": "start_lat",
                          "lng0": "start_lng",
                          "alt0": null,
                          "lat1": "end_lat",
                          "lng1": "end_lng",
                          "alt1": null
                        },
                        "isVisible": false,
                        "visConfig": {
                          "opacity": 0.8,
                          "thickness": 2,
                          "colorRange": {
                            "name": "Global Warming",
                            "type": "sequential",
                            "category": "Uber",
                            "colors": [
                              "#5A1846",
                              "#900C3F",
                              "#C70039",
                              "#E3611C",
                              "#F1920E",
                              "#FFC300"
                            ]
                          },
                          "sizeRange": [
                            0,
                            10
                          ],
                          "targetColor": null,
                          "elevationScale": 1
                        },
                        "hidden": false,
                        "textLabel": [
                          {
                            "field": null,
                            "color": [
                              255,
                              255,
                              255
                            ],
                            "size": 18,
                            "offset": [
                              0,
                              0
                            ],
                            "anchor": "start",
                            "alignment": "center"
                          }
                        ]
                      },
                      "visualChannels": {
                        "colorField": null,
                        "colorScale": "quantile",
                        "sizeField": null,
                        "sizeScale": "linear"
                      }
                    },
                    {
                      "id": "gsmhpck",
                      "type": "point",
                      "config": {
                        "dataId": "start_stations",
                        "label": "start",
                        "color": [
                          255,
                          153,
                          31
                        ],
                        "highlightColor": [
                          252,
                          242,
                          26,
                          255
                        ],
                        "columns": {
                          "lat": "start_lat",
                          "lng": "start_lng",
                          "altitude": null
                        },
                        "isVisible": true,
                        "visConfig": {
                          "radius": 10,
                          "fixedRadius": false,
                          "opacity": 0.8,
                          "outline": false,
                          "thickness": 2,
                          "strokeColor": null,
                          "colorRange": {
                            "name": "Global Warming",
                            "type": "sequential",
                            "category": "Uber",
                            "colors": [
                              "#5A1846",
                              "#900C3F",
                              "#C70039",
                              "#E3611C",
                              "#F1920E",
                              "#FFC300"
                            ]
                          },
                          "strokeColorRange": {
                            "name": "Global Warming",
                            "type": "sequential",
                            "category": "Uber",
                            "colors": [
                              "#5A1846",
                              "#900C3F",
                              "#C70039",
                              "#E3611C",
                              "#F1920E",
                              "#FFC300"
                            ]
                          },
                          "radiusRange": [
                            0,
                            50
                          ],
                          "filled": true
                        },
                        "hidden": false,
                        "textLabel": [
                          {
                            "field": null,
                            "color": [
                              255,
                              255,
                              255
                            ],
                            "size": 18,
                            "offset": [
                              0,
                              0
                            ],
                            "anchor": "start",
                            "alignment": "center"
                          }
                        ]
                      },
                      "visualChannels": {
                        "colorField": {
                          "name": "value",
                          "type": "integer"
                        },
                        "colorScale": "quantile",
                        "strokeColorField": null,
                        "strokeColorScale": "quantile",
                        "sizeField": null,
                        "sizeScale": "linear"
                      }
                    }
                  ],
                  "interactionConfig": {
                    "tooltip": {
                      "fieldsToShow": {
                        "data_1": [
                          {
                            "name": "origin",
                            "format": null
                          },
                          {
                            "name": "destination",
                            "format": null
                          },
                          {
                            "name": "trips",
                            "format": null
                          }
                        ],
                        "start_stations": [
                          {
                            "name": "start_station_name",
                            "format": null
                          },
                          {
                            "name": "value",
                            "format": null
                          }
                        ]
                      },
                      "compareMode": false,
                      "compareType": "absolute",
                      "enabled": true
                    },
                    "brush": {
                      "size": 0.5,
                      "enabled": false
                    },
                    "geocoder": {
                      "enabled": false
                    },
                    "coordinate": {
                      "enabled": false
                    }
                  },
                  "layerBlending": "normal",
                  "splitMaps": [],
                  "animationConfig": {
                    "currentTime": null,
                    "speed": 1
                  }
                },
                "mapState": {
                  "bearing": 0,
                  "dragRotate": false,
                  "latitude": 40.73286812419308,
                  "longitude": -74.06340844241397,
                  "pitch": 0,
                  "zoom": 14.096117833833905,
                  "isSplit": false
                },
                "mapStyle": {
                  "styleType": "dark",
                  "topLayerGroups": {},
                  "visibleLayerGroups": {
                    "label": true,
                    "road": true,
                    "border": false,
                    "building": true,
                    "water": true,
                    "land": true,
                    "3d building": false
                  },
                  "threeDBuildingColor": [
                    9.665468314072013,
                    17.18305478057247,
                    31.1442867897876
                  ],
                  "mapStyles": {}
                }
              }
            },
            "data": {
              "data_1": {
                "index": [
                  3657,
                  6290,
                  4976,
                  3574,
                  3135,
                  181,
                  4503,
                  6211,
                  3201,
                  5722,
                  6212,
                  285,
                  3112,
                  97,
                  3128,
                  3670,
                  3284,
                  4487,
                  2561,
                  3126,
                  2151,
                  4322,
                  1557,
                  5000,
                  4655,
                  201,
                  3102,
                  3705,
                  5133,
                  1473,
                  3120,
                  3111,
                  3089,
                  3691,
                  3704,
                  3088,
                  5191,
                  3912,
                  3222,
                  3706,
                  5399,
                  3711,
                  6186,
                  3573,
                  5601,
                  6209,
                  1258,
                  6348,
                  1055,
                  4469,
                  5600,
                  3921,
                  5239,
                  3575,
                  4151,
                  1918,
                  657,
                  4656,
                  3333,
                  4886,
                  1181,
                  6579,
                  3154,
                  2178,
                  349,
                  3138,
                  3124,
                  3303,
                  3083,
                  6137,
                  4635,
                  5721,
                  23,
                  82,
                  3834,
                  3202,
                  3707,
                  6807,
                  3729,
                  3746,
                  2224,
                  149,
                  4687,
                  5631,
                  2710,
                  1114,
                  6710,
                  3725,
                  3747,
                  656,
                  1905,
                  49,
                  1793,
                  3230,
                  1826,
                  5729,
                  3835,
                  5630,
                  2308,
                  3659
                ],
                "columns": [
                  "origin",
                  "destination",
                  "trips",
                  "start_lat",
                  "start_lng",
                  "end_lat",
                  "end_lng"
                ],
                "data": [
                  [
                    "Hoboken Terminal - Hudson St & Hudson Pl",
                    "Hoboken Ave at Monmouth St",
                    5565,
                    40.73593758446329,
                    -74.03030455112457,
                    40.73520838045357,
                    -74.04696375131607
                  ],
                  [
                    "South Waterfront Walkway - Sinatra Dr & 1 St",
                    "South Waterfront Walkway - Sinatra Dr & 1 St",
                    5439,
                    40.73698221818716,
                    -74.02778059244156,
                    40.73698221818716,
                    -74.02778059244156
                  ],
                  [
                    "Marin Light Rail",
                    "Grove St PATH",
                    4113,
                    40.71458403535893,
                    -74.04281705617905,
                    40.71958611647166,
                    -74.04311746358871
                  ],
                  [
                    "Hoboken Ave at Monmouth St",
                    "Hoboken Terminal - Hudson St & Hudson Pl",
                    4083,
                    40.73520838045357,
                    -74.04696375131607,
                    40.73593758446329,
                    -74.03030455112457
                  ],
                  [
                    "Grove St PATH",
                    "Marin Light Rail",
                    3973,
                    40.71958611647166,
                    -74.04311746358871,
                    40.71458403535893,
                    -74.04281705617905
                  ],
                  [
                    "12 St & Sinatra Dr N",
                    "South Waterfront Walkway - Sinatra Dr & 1 St",
                    3964,
                    40.75060414236896,
                    -74.02402013540268,
                    40.73698221818716,
                    -74.02778059244156
                  ],
                  [
                    "Liberty Light Rail",
                    "Liberty Light Rail",
                    3696,
                    40.7112423,
                    -74.0557013,
                    40.7112423,
                    -74.0557013
                  ],
                  [
                    "South Waterfront Walkway - Sinatra Dr & 1 St",
                    "12 St & Sinatra Dr N",
                    3495,
                    40.73698221818716,
                    -74.02778059244156,
                    40.75060414236896,
                    -74.02402013540268
                  ],
                  [
                    "Hamilton Park",
                    "Grove St PATH",
                    3203,
                    40.727595966,
                    -74.044247311,
                    40.71958611647166,
                    -74.04311746358871
                  ],
                  [
                    "Newport Pkwy",
                    "Newport Pkwy",
                    3131,
                    40.7287448,
                    -74.0321082,
                    40.728745,
                    -74.032108
                  ],
                  [
                    "South Waterfront Walkway - Sinatra Dr & 1 St",
                    "14 St Ferry - 14 St & Shipyard Ln",
                    3027,
                    40.73698221818716,
                    -74.02778059244156,
                    40.75296063046496,
                    -74.02435272932053
                  ],
                  [
                    "14 St Ferry - 14 St & Shipyard Ln",
                    "South Waterfront Walkway - Sinatra Dr & 1 St",
                    3026,
                    40.75296063046496,
                    -74.02435272932053,
                    40.73698221818716,
                    -74.02778059244156
                  ],
                  [
                    "Grove St PATH",
                    "Hamilton Park",
                    2956,
                    40.71958611647166,
                    -74.04311746358871,
                    40.727595966,
                    -74.044247311
                  ],
                  [
                    "12 St & Sinatra Dr N",
                    "12 St & Sinatra Dr N",
                    2952,
                    40.75060414236896,
                    -74.02402013540268,
                    40.75060414236896,
                    -74.02402013540268
                  ],
                  [
                    "Grove St PATH",
                    "Liberty Light Rail",
                    2847,
                    40.71958611647166,
                    -74.04311746358871,
                    40.7112423,
                    -74.0557013
                  ],
                  [
                    "Hoboken Terminal - Hudson St & Hudson Pl",
                    "Madison St & 1 St",
                    2840,
                    40.73593758446329,
                    -74.03030455112457,
                    40.73879,
                    -74.0393
                  ],
                  [
                    "Harborside",
                    "Columbus Dr at Exchange Pl",
                    2735,
                    40.7192517,
                    -74.034234,
                    40.71687,
                    -74.03281
                  ],
                  [
                    "Liberty Light Rail",
                    "Grove St PATH",
                    2692,
                    40.7112423,
                    -74.0557013,
                    40.71958611647166,
                    -74.04311746358871
                  ],
                  [
                    "Dixon Mills",
                    "Grove St PATH",
                    2556,
                    40.721630142638354,
                    -74.04996782541275,
                    40.71958611647166,
                    -74.04311746358871
                  ],
                  [
                    "Grove St PATH",
                    "Lafayette Park",
                    2530,
                    40.71958611647166,
                    -74.04311746358871,
                    40.71346382669195,
                    -74.06285852193832
                  ],
                  [
                    "Columbus Dr at Exchange Pl",
                    "Harborside",
                    2422,
                    40.71687,
                    -74.03281,
                    40.7192517,
                    -74.034234
                  ],
                  [
                    "Lafayette Park",
                    "Grove St PATH",
                    2422,
                    40.71346382669195,
                    -74.06285852193832,
                    40.71958611647166,
                    -74.04311746358871
                  ],
                  [
                    "Brunswick St",
                    "Grove St PATH",
                    2410,
                    40.7241765,
                    -74.0506564,
                    40.71958611647166,
                    -74.04311746358871
                  ],
                  [
                    "Marin Light Rail",
                    "Marin Light Rail",
                    2399,
                    40.71458403535893,
                    -74.04281705617905,
                    40.71458403535893,
                    -74.04281705617905
                  ],
                  [
                    "Madison St & 1 St",
                    "Hoboken Terminal - Hudson St & Hudson Pl",
                    2359,
                    40.73879,
                    -74.0393,
                    40.73593758446329,
                    -74.03030455112457
                  ],
                  [
                    "14 St Ferry - 14 St & Shipyard Ln",
                    "14 St Ferry - 14 St & Shipyard Ln",
                    2345,
                    40.75296063046496,
                    -74.02435272932053,
                    40.75296063046496,
                    -74.02435272932053
                  ],
                  [
                    "Grove St PATH",
                    "Dixon Mills",
                    2339,
                    40.71958611647166,
                    -74.04311746358871,
                    40.721630142638354,
                    -74.04996782541275
                  ],
                  [
                    "Hoboken Terminal - River St & Hudson Pl",
                    "12 St & Sinatra Dr N",
                    2103,
                    40.7360676564825,
                    -74.02912706136703,
                    40.75060414236896,
                    -74.02402013540268
                  ],
                  [
                    "McGinley Square",
                    "Bergen Ave & Sip Ave",
                    2085,
                    40.7253399253558,
                    -74.06762212514877,
                    40.73100888698729,
                    -74.06443700194359
                  ],
                  [
                    "Brunswick & 6th",
                    "Grove St PATH",
                    2082,
                    40.72601172964625,
                    -74.05038893222809,
                    40.71958611647166,
                    -74.04311746358871
                  ],
                  [
                    "Grove St PATH",
                    "JC Medical Center",
                    2073,
                    40.71958611647166,
                    -74.04311746358871,
                    40.71653978099194,
                    -74.0496379137039
                  ],
                  [
                    "Grove St PATH",
                    "Grove St PATH",
                    2071,
                    40.71958611647166,
                    -74.04311746358871,
                    40.71958611647166,
                    -74.04311746358871
                  ],
                  [
                    "Grove St PATH",
                    "Brunswick St",
                    2032,
                    40.71958611647166,
                    -74.04311746358871,
                    40.7241765,
                    -74.0506564
                  ],
                  [
                    "Hoboken Terminal - Hudson St & Hudson Pl",
                    "Southwest Park - Jackson St & Observer Hwy",
                    2014,
                    40.73593758446329,
                    -74.03030455112457,
                    40.73755127245804,
                    -74.04166370630264
                  ],
                  [
                    "Hoboken Terminal - River St & Hudson Pl",
                    "11 St & Washington St",
                    1964,
                    40.7360676564825,
                    -74.02912706136703,
                    40.74998490907138,
                    -74.02715027332306
                  ],
                  [
                    "Grove St PATH",
                    "Brunswick & 6th",
                    1925,
                    40.71958611647166,
                    -74.04311746358871,
                    40.72601172964625,
                    -74.05038893222809
                  ],
                  [
                    "McGinley Square",
                    "Sip Ave",
                    1906,
                    40.7253399253558,
                    -74.06762212514877,
                    40.73089709786179,
                    -74.06391263008118
                  ],
                  [
                    "JC Medical Center",
                    "Grove St PATH",
                    1868,
                    40.71653978099194,
                    -74.0496379137039,
                    40.71958611647166,
                    -74.04311746358871
                  ],
                  [
                    "Hamilton Park",
                    "Manila & 1st",
                    1852,
                    40.727595966,
                    -74.044247311,
                    40.72165072487999,
                    -74.04288411140442
                  ],
                  [
                    "Hoboken Terminal - River St & Hudson Pl",
                    "14 St Ferry - 14 St & Shipyard Ln",
                    1826,
                    40.7360676564825,
                    -74.02912706136703,
                    40.75296063046496,
                    -74.02435272932053
                  ],
                  [
                    "Morris Canal",
                    "Columbus Dr at Exchange Pl",
                    1810,
                    40.7124188237569,
                    -74.03852552175522,
                    40.71687,
                    -74.03281
                  ],
                  [
                    "Hoboken Terminal - River St & Hudson Pl",
                    "8 St & Washington St",
                    1807,
                    40.7360676564825,
                    -74.02912706136703,
                    40.74598388291562,
                    -74.02819901704788
                  ],
                  [
                    "Sip Ave",
                    "McGinley Square",
                    1792,
                    40.73089709786179,
                    -74.06391263008118,
                    40.7253399253558,
                    -74.06762212514877
                  ],
                  [
                    "Hoboken Ave at Monmouth St",
                    "Hoboken Ave at Monmouth St",
                    1760,
                    40.73520838045357,
                    -74.04696375131607,
                    40.73520838045357,
                    -74.04696375131607
                  ],
                  [
                    "Newport PATH",
                    "Harborside",
                    1758,
                    40.7272235,
                    -74.0337589,
                    40.7192517,
                    -74.034234
                  ],
                  [
                    "South Waterfront Walkway - Sinatra Dr & 1 St",
                    "11 St & Washington St",
                    1755,
                    40.73698221818716,
                    -74.02778059244156,
                    40.74998490907138,
                    -74.02715027332306
                  ],
                  [
                    "Bergen Ave & Sip Ave",
                    "McGinley Square",
                    1730,
                    40.731172204,
                    -74.064419627,
                    40.7253399253558,
                    -74.06762212514877
                  ],
                  [
                    "Southwest Park - Jackson St & Observer Hwy",
                    "Hoboken Terminal - Hudson St & Hudson Pl",
                    1716,
                    40.73755127245804,
                    -74.04166370630264,
                    40.73593758446329,
                    -74.03030455112457
                  ],
                  [
                    "Baldwin at Montgomery",
                    "Grove St PATH",
                    1708,
                    40.7236589,
                    -74.0641943,
                    40.71958611647166,
                    -74.04311746358871
                  ],
                  [
                    "Liberty Light Rail",
                    "City Hall",
                    1696,
                    40.7112423,
                    -74.0557013,
                    40.7177325,
                    -74.043845
                  ],
                  [
                    "Newport PATH",
                    "Hamilton Park",
                    1694,
                    40.7272235,
                    -74.0337589,
                    40.727595966,
                    -74.044247311
                  ],
                  [
                    "JC Medical Center",
                    "JC Medical Center",
                    1664,
                    40.71653978099194,
                    -74.0496379137039,
                    40.71653978099194,
                    -74.0496379137039
                  ],
                  [
                    "Monmouth and 6th",
                    "Grove St PATH",
                    1661,
                    40.72568548362901,
                    -74.04879033565521,
                    40.71958611647166,
                    -74.04311746358871
                  ],
                  [
                    "Hoboken Ave at Monmouth St",
                    "Hoboken Terminal - River St & Hudson Pl",
                    1660,
                    40.73520838045357,
                    -74.04696375131607,
                    40.7360676564825,
                    -74.02912706136703
                  ],
                  [
                    "Jersey & 6th St",
                    "Grove St PATH",
                    1646,
                    40.72528910781132,
                    -74.04557168483734,
                    40.71958611647166,
                    -74.04311746358871
                  ],
                  [
                    "City Hall - Washington St & 1 St",
                    "Madison St & 1 St",
                    1614,
                    40.73736,
                    -74.03097,
                    40.73879,
                    -74.0393
                  ],
                  [
                    "8 St & Washington St",
                    "Hoboken Terminal - River St & Hudson Pl",
                    1595,
                    40.74598388291562,
                    -74.02819901704788,
                    40.7360676564825,
                    -74.02912706136703
                  ],
                  [
                    "Madison St & 1 St",
                    "Hoboken Terminal - River St & Hudson Pl",
                    1563,
                    40.73879,
                    -74.0393,
                    40.7360676564825,
                    -74.02912706136703
                  ],
                  [
                    "Harborside",
                    "Newport PATH",
                    1557,
                    40.7192517,
                    -74.034234,
                    40.7272235,
                    -74.0337589
                  ],
                  [
                    "Manila & 1st",
                    "Hamilton Park",
                    1554,
                    40.72165072487999,
                    -74.04288411140442,
                    40.727595966,
                    -74.044247311
                  ],
                  [
                    "Bergen Ave",
                    "Sip Ave",
                    1527,
                    40.722103786686034,
                    -74.07145500183105,
                    40.73089709786179,
                    -74.06391263008118
                  ],
                  [
                    "Van Vorst Park",
                    "Grove St PATH",
                    1523,
                    40.71848892,
                    -74.047726625,
                    40.71958611647166,
                    -74.04311746358871
                  ],
                  [
                    "Grove St PATH",
                    "Van Vorst Park",
                    1506,
                    40.71958611647166,
                    -74.04311746358871,
                    40.71848892,
                    -74.047726625
                  ],
                  [
                    "Columbus Dr at Exchange Pl",
                    "Morris Canal",
                    1495,
                    40.71687,
                    -74.03281,
                    40.7124188237569,
                    -74.03852552175522
                  ],
                  [
                    "4 St & Grand St",
                    "Hoboken Terminal - River St & Hudson Pl",
                    1488,
                    40.7422579775645,
                    -74.03511106967926,
                    40.7360676564825,
                    -74.02912706136703
                  ],
                  [
                    "Grove St PATH",
                    "Monmouth and 6th",
                    1480,
                    40.71958611647166,
                    -74.04311746358871,
                    40.72568548362901,
                    -74.04879033565521
                  ],
                  [
                    "Grove St PATH",
                    "Jersey & 6th St",
                    1474,
                    40.71958611647166,
                    -74.04311746358871,
                    40.72528910781132,
                    -74.04557168483734
                  ],
                  [
                    "Harborside",
                    "Harborside",
                    1466,
                    40.7192517,
                    -74.034234,
                    40.7192517,
                    -74.034234
                  ],
                  [
                    "Grove St PATH",
                    "Baldwin at Montgomery",
                    1465,
                    40.71958611647166,
                    -74.04311746358871,
                    40.7236589,
                    -74.0641943
                  ],
                  [
                    "Sip Ave",
                    "Bergen Ave",
                    1447,
                    40.73089709786179,
                    -74.06391263008118,
                    40.722103786686034,
                    -74.07145500183105
                  ],
                  [
                    "Madison St & 1 St",
                    "City Hall - Washington St & 1 St",
                    1436,
                    40.73879,
                    -74.0393,
                    40.73736,
                    -74.03097
                  ],
                  [
                    "Newport Pkwy",
                    "Newport PATH",
                    1433,
                    40.7287448,
                    -74.0321082,
                    40.7272235,
                    -74.0337589
                  ],
                  [
                    "11 St & Washington St",
                    "City Hall - Washington St & 1 St",
                    1399,
                    40.74998490907138,
                    -74.02715027332306,
                    40.73736,
                    -74.03097
                  ],
                  [
                    "11 St & Washington St",
                    "South Waterfront Walkway - Sinatra Dr & 1 St",
                    1391,
                    40.74998490907138,
                    -74.02715027332306,
                    40.73698221818716,
                    -74.02778059244156
                  ],
                  [
                    "Hudson St & 4 St",
                    "Hoboken Terminal - River St & Hudson Pl",
                    1381,
                    40.74097260864355,
                    -74.02860336005688,
                    40.7360676564825,
                    -74.02912706136703
                  ],
                  [
                    "Hamilton Park",
                    "Hamilton Park",
                    1380,
                    40.727595966,
                    -74.044247311,
                    40.727595966,
                    -74.044247311
                  ],
                  [
                    "Hoboken Terminal - River St & Hudson Pl",
                    "4 St & Grand St",
                    1362,
                    40.7360676564825,
                    -74.02912706136703,
                    40.7422579775645,
                    -74.03511106967926
                  ],
                  [
                    "Washington St",
                    "Washington St",
                    1351,
                    40.7242941,
                    -74.0354826,
                    40.7242941,
                    -74.0354826
                  ],
                  [
                    "Hoboken Terminal - River St & Hudson Pl",
                    "Columbus Park - Clinton St & 9 St",
                    1329,
                    40.7360676564825,
                    -74.02912706136703,
                    40.74816121065146,
                    -74.0324530005455
                  ],
                  [
                    "Hoboken Terminal - River St & Hudson Pl",
                    "Hoboken Terminal - River St & Hudson Pl",
                    1305,
                    40.7360676564825,
                    -74.02912706136703,
                    40.7360676564825,
                    -74.02912706136703
                  ],
                  [
                    "Columbus Drive",
                    "Columbus Drive",
                    1302,
                    40.71835519823214,
                    -74.03891444206238,
                    40.71835519823214,
                    -74.03891444206238
                  ],
                  [
                    "12 St & Sinatra Dr N",
                    "Hoboken Terminal - River St & Hudson Pl",
                    1298,
                    40.75060414236896,
                    -74.02402013540268,
                    40.7360676564825,
                    -74.02912706136703
                  ],
                  [
                    "Madison St & 1 St",
                    "South Waterfront Walkway - Sinatra Dr & 1 St",
                    1293,
                    40.73879,
                    -74.0393,
                    40.73698221818716,
                    -74.02778059244156
                  ],
                  [
                    "Newport PATH",
                    "Newport Pkwy",
                    1281,
                    40.7272235,
                    -74.0337589,
                    40.728745,
                    -74.032108
                  ],
                  [
                    "Fairmount Ave",
                    "Bergen Ave & Sip Ave",
                    1278,
                    40.72572613742557,
                    -74.07195925712585,
                    40.73100888698729,
                    -74.06443700194359
                  ],
                  [
                    "Bergen Ave",
                    "Bergen Ave & Sip Ave",
                    1275,
                    40.722103786686034,
                    -74.07145500183105,
                    40.73100888698729,
                    -74.06443700194359
                  ],
                  [
                    "Warren St",
                    "Warren St",
                    1274,
                    40.7211236,
                    -74.03805095,
                    40.7211236,
                    -74.03805095
                  ],
                  [
                    "Hoboken Terminal - River St & Hudson Pl",
                    "Clinton St & 7 St",
                    1272,
                    40.7360676564825,
                    -74.02912706136703,
                    40.74542,
                    -74.03332
                  ],
                  [
                    "Hoboken Terminal - River St & Hudson Pl",
                    "Hudson St & 4 St",
                    1260,
                    40.7360676564825,
                    -74.02912706136703,
                    40.74097260864355,
                    -74.02860336005688
                  ],
                  [
                    "8 St & Washington St",
                    "Hoboken Terminal - Hudson St & Hudson Pl",
                    1258,
                    40.74598388291562,
                    -74.02819901704788,
                    40.73593758446329,
                    -74.03030455112457
                  ],
                  [
                    "City Hall - Washington St & 1 St",
                    "Hoboken Ave at Monmouth St",
                    1258,
                    40.73736,
                    -74.03097,
                    40.73520838045357,
                    -74.04696375131607
                  ],
                  [
                    "11 St & Washington St",
                    "Hoboken Terminal - River St & Hudson Pl",
                    1247,
                    40.74998490907138,
                    -74.02715027332306,
                    40.7360676564825,
                    -74.02912706136703
                  ],
                  [
                    "City Hall",
                    "City Hall",
                    1246,
                    40.7177325,
                    -74.043845,
                    40.7177325,
                    -74.043845
                  ],
                  [
                    "Hamilton Park",
                    "Newport PATH",
                    1242,
                    40.727595966,
                    -74.044247311,
                    40.7272235,
                    -74.0337589
                  ],
                  [
                    "City Hall",
                    "Liberty Light Rail",
                    1234,
                    40.7177325,
                    -74.043845,
                    40.7112423,
                    -74.0557013
                  ],
                  [
                    "Newport Pkwy",
                    "South Waterfront Walkway - Sinatra Dr & 1 St",
                    1233,
                    40.7287448,
                    -74.0321082,
                    40.73698221818716,
                    -74.02778059244156
                  ],
                  [
                    "Hudson St & 4 St",
                    "Hudson St & 4 St",
                    1232,
                    40.74097260864355,
                    -74.02860336005688,
                    40.74097260864355,
                    -74.02860336005688
                  ],
                  [
                    "Newport PATH",
                    "Newport PATH",
                    1231,
                    40.7272235,
                    -74.0337589,
                    40.7272235,
                    -74.0337589
                  ],
                  [
                    "Columbus Park - Clinton St & 9 St",
                    "City Hall - Washington St & 1 St",
                    1229,
                    40.74816121065146,
                    -74.0324530005455,
                    40.73736,
                    -74.03097
                  ],
                  [
                    "Hoboken Terminal - Hudson St & Hudson Pl",
                    "Hoboken Terminal - River St & Hudson Pl",
                    1224,
                    40.73593758446329,
                    -74.03030455112457,
                    40.7360676564825,
                    -74.02912706136703
                  ]
                ]
              },
              "start_stations": {
                "index": [
                  0,
                  1,
                  2,
                  3,
                  4,
                  5,
                  6,
                  7,
                  8,
                  9,
                  10,
                  11,
                  12,
                  13,
                  14,
                  15,
                  16,
                  17,
                  18,
                  19,
                  20,
                  21,
                  22,
                  23,
                  24,
                  25,
                  26,
                  27,
                  28,
                  29,
                  30,
                  31,
                  32,
                  33,
                  34,
                  35,
                  36,
                  37,
                  38,
                  39,
                  40,
                  41,
                  42,
                  43,
                  44,
                  45,
                  46,
                  47,
                  48,
                  49,
                  50,
                  51,
                  52,
                  53,
                  54,
                  55,
                  56,
                  57,
                  58,
                  59,
                  60,
                  61,
                  62,
                  63,
                  64,
                  65,
                  66,
                  67,
                  68,
                  69,
                  70,
                  71,
                  72,
                  73,
                  74,
                  75,
                  76,
                  77,
                  78,
                  79,
                  80,
                  81,
                  82,
                  83
                ],
                "columns": [
                  "start_station_name",
                  "value",
                  "start_lat",
                  "start_lng"
                ],
                "data": [
                  [
                    "11 St & Washington St",
                    15502,
                    40.74998490907138,
                    -74.02715027332306
                  ],
                  [
                    "12 St & Sinatra Dr N",
                    17137,
                    40.75060414236896,
                    -74.02402013540268
                  ],
                  [
                    "14 St Ferry - 14 St & Shipyard Ln",
                    17066,
                    40.75296063046496,
                    -74.02435272932053
                  ],
                  [
                    "4 St & Grand St",
                    10356,
                    40.7422579775645,
                    -74.03511106967926
                  ],
                  [
                    "5 Corners Library",
                    3043,
                    40.73496102000952,
                    -74.0595030784607
                  ],
                  [
                    "6 St & Grand St",
                    8030,
                    40.7443978330956,
                    -74.03450086712837
                  ],
                  [
                    "7 St & Monroe St",
                    10199,
                    40.74641264837719,
                    -74.03797701001167
                  ],
                  [
                    "8 St & Washington St",
                    14423,
                    40.74598388291562,
                    -74.02819901704788
                  ],
                  [
                    "9 St HBLR - Jackson St & 8 St",
                    10578,
                    40.74790720968899,
                    -74.03841152787209
                  ],
                  [
                    "Adams St & 11 St",
                    5697,
                    40.750915534784994,
                    -74.03354063630104
                  ],
                  [
                    "Adams St & 2 St",
                    9270,
                    40.73981372311843,
                    -74.03690412640572
                  ],
                  [
                    "Astor Place",
                    4779,
                    40.71928220070702,
                    -74.07126188278198
                  ],
                  [
                    "Baldwin at Montgomery",
                    8501,
                    40.7236589,
                    -74.0641943
                  ],
                  [
                    "Bergen Ave",
                    6068,
                    40.722103786686034,
                    -74.07145500183105
                  ],
                  [
                    "Bergen Ave & Sip Ave",
                    10256,
                    40.731172204,
                    -74.064419627
                  ],
                  [
                    "Bergen Ave & Stegman St",
                    1235,
                    40.70657545063453,
                    -74.0867006778717
                  ],
                  [
                    "Bloomfield St & 15 St",
                    9790,
                    40.75453,
                    -74.02658
                  ],
                  [
                    "Brunswick & 6th",
                    8907,
                    40.72601172964625,
                    -74.05038893222809
                  ],
                  [
                    "Brunswick St",
                    8933,
                    40.7241765,
                    -74.0506564
                  ],
                  [
                    "Christ Hospital",
                    5207,
                    40.734785818,
                    -74.050443636
                  ],
                  [
                    "Church Sq Park - 5 St & Park Ave",
                    11895,
                    40.74265933273143,
                    -74.03223305940628
                  ],
                  [
                    "City Hall",
                    14072,
                    40.7177325,
                    -74.043845
                  ],
                  [
                    "City Hall - Washington St & 1 St",
                    23289,
                    40.73736,
                    -74.03097
                  ],
                  [
                    "Clinton St & 7 St",
                    11394,
                    40.74542,
                    -74.03332
                  ],
                  [
                    "Clinton St & Newark St",
                    11425,
                    40.73743,
                    -74.03571
                  ],
                  [
                    "Columbus Dr at Exchange Pl",
                    16731,
                    40.71687,
                    -74.03281
                  ],
                  [
                    "Columbus Drive",
                    11219,
                    40.71835519823214,
                    -74.03891444206238
                  ],
                  [
                    "Columbus Park - Clinton St & 9 St",
                    11842,
                    40.74816121065146,
                    -74.0324530005455
                  ],
                  [
                    "Communipaw & Berry Lane",
                    3595,
                    40.71435836870427,
                    -74.06661093235016
                  ],
                  [
                    "Dey St",
                    2260,
                    40.737711,
                    -74.066921
                  ],
                  [
                    "Dixon Mills",
                    6546,
                    40.721630142638354,
                    -74.04996782541275
                  ],
                  [
                    "Essex Light Rail",
                    5859,
                    40.7127742,
                    -74.0364857
                  ],
                  [
                    "Fairmount Ave",
                    5178,
                    40.72572613742557,
                    -74.07195925712585
                  ],
                  [
                    "Glenwood Ave",
                    3662,
                    40.72755146730012,
                    -74.07106071710587
                  ],
                  [
                    "Grand St",
                    10609,
                    40.71517767732029,
                    -74.03768330812454
                  ],
                  [
                    "Grand St & 14 St",
                    11363,
                    40.75409,
                    -74.0316
                  ],
                  [
                    "Grant Ave & MLK Dr",
                    615,
                    40.70919832245443,
                    -74.08084273338318
                  ],
                  [
                    "Grove St PATH",
                    42556,
                    40.71958611647166,
                    -74.04311746358871
                  ],
                  [
                    "Hamilton Park",
                    20477,
                    40.727595966,
                    -74.044247311
                  ],
                  [
                    "Harborside",
                    15754,
                    40.7192517,
                    -74.034234
                  ],
                  [
                    "Heights Elevator",
                    4364,
                    40.74871594538023,
                    -74.04044330120087
                  ],
                  [
                    "Hilltop",
                    7139,
                    40.7311689,
                    -74.0575736
                  ],
                  [
                    "Hoboken Ave at Monmouth St",
                    19501,
                    40.73520838045357,
                    -74.04696375131607
                  ],
                  [
                    "Hoboken Terminal - Hudson St & Hudson Pl",
                    30244,
                    40.73593758446329,
                    -74.03030455112457
                  ],
                  [
                    "Hoboken Terminal - River St & Hudson Pl",
                    33020,
                    40.7360676564825,
                    -74.02912706136703
                  ],
                  [
                    "Hudson St & 4 St",
                    15883,
                    40.74097260864355,
                    -74.02860336005688
                  ],
                  [
                    "JC Medical Center",
                    10031,
                    40.71653978099194,
                    -74.0496379137039
                  ],
                  [
                    "JCBS Depot",
                    2,
                    40.70965083364061,
                    -74.06860113143921
                  ],
                  [
                    "Jackson Square",
                    1523,
                    40.71113,
                    -74.0789
                  ],
                  [
                    "Jersey & 3rd",
                    8499,
                    40.72333158646436,
                    -74.04595255851744
                  ],
                  [
                    "Jersey & 6th St",
                    6684,
                    40.72528910781132,
                    -74.04557168483734
                  ],
                  [
                    "Journal Square",
                    7797,
                    40.73367,
                    -74.0625
                  ],
                  [
                    "Lafayette Park",
                    7141,
                    40.71346382669195,
                    -74.06285852193832
                  ],
                  [
                    "Leonard Gordon Park",
                    4503,
                    40.74590996631558,
                    -74.0572714805603
                  ],
                  [
                    "Liberty Light Rail",
                    14563,
                    40.7112423,
                    -74.0557013
                  ],
                  [
                    "Lincoln Park",
                    4369,
                    40.7246050998869,
                    -74.07840594649315
                  ],
                  [
                    "MTL-ECO5-LAB",
                    2,
                    40.74716563443737,
                    -74.08896387030836
                  ],
                  [
                    "Madison St & 1 St",
                    14124,
                    40.73879,
                    -74.0393
                  ],
                  [
                    "Madison St & 10 St",
                    8634,
                    40.74994325412246,
                    -74.03586477041245
                  ],
                  [
                    "Mama Johnson Field - 4 St & Jackson St",
                    5988,
                    40.74313993965626,
                    -74.04004096984863
                  ],
                  [
                    "Manila & 1st",
                    10515,
                    40.72165072487999,
                    -74.04288411140442
                  ],
                  [
                    "Marin Light Rail",
                    19230,
                    40.71458403535893,
                    -74.04281705617905
                  ],
                  [
                    "Marshall St & 2 St",
                    8389,
                    40.740802,
                    -74.042521
                  ],
                  [
                    "McGinley Square",
                    10132,
                    40.7253399253558,
                    -74.06762212514877
                  ],
                  [
                    "Monmouth and 6th",
                    6869,
                    40.72568548362901,
                    -74.04879033565521
                  ],
                  [
                    "Montgomery St",
                    5719,
                    40.71942,
                    -74.05099
                  ],
                  [
                    "Morris Canal",
                    8706,
                    40.7124188237569,
                    -74.03852552175522
                  ],
                  [
                    "Newark Ave",
                    12164,
                    40.72152515,
                    -74.046304543
                  ],
                  [
                    "Newport PATH",
                    19965,
                    40.7272235,
                    -74.0337589
                  ],
                  [
                    "Newport Pkwy",
                    21961,
                    40.7287448,
                    -74.0321082
                  ],
                  [
                    "Oakland Ave",
                    6475,
                    40.7376037,
                    -74.0524783
                  ],
                  [
                    "Paulus Hook",
                    9671,
                    40.7141454,
                    -74.0335519
                  ],
                  [
                    "Pershing Field",
                    6691,
                    40.742677141,
                    -74.051788633
                  ],
                  [
                    "Riverview Park",
                    6424,
                    40.7443187,
                    -74.0439909
                  ],
                  [
                    "Sip Ave",
                    10020,
                    40.73089709786179,
                    -74.06391263008118
                  ],
                  [
                    "South Waterfront Walkway - Sinatra Dr & 1 St",
                    34245,
                    40.73698221818716,
                    -74.02778059244156
                  ],
                  [
                    "Southwest Park - Jackson St & Observer Hwy",
                    9247,
                    40.73755127245804,
                    -74.04166370630264
                  ],
                  [
                    "Stevens - River Ter & 6 St",
                    7865,
                    40.74313282710551,
                    -74.02698867022991
                  ],
                  [
                    "Union St",
                    2423,
                    40.7182113,
                    -74.0836394
                  ],
                  [
                    "Van Vorst Park",
                    10744,
                    40.71848892,
                    -74.047726625
                  ],
                  [
                    "Warren St",
                    13575,
                    40.7211236,
                    -74.03805095
                  ],
                  [
                    "Washington St",
                    15101,
                    40.7242941,
                    -74.0354826
                  ],
                  [
                    "Willow Ave & 12 St",
                    9459,
                    40.7518674823282,
                    -74.03037697076797
                  ],
                  [
                    "York St & Marin Blvd",
                    556,
                    40.716615000830494,
                    -74.0424120426178
                  ]
                ]
              }
            },
            "height": 700,
            "layout": "IPY_MODEL_067456934c264dfdb8ac324838a92344",
            "value": "Hello World!"
          }
        },
        "067456934c264dfdb8ac324838a92344": {
          "model_module": "@jupyter-widgets/base",
          "model_name": "LayoutModel",
          "model_module_version": "1.2.0",
          "state": {
            "_model_module": "@jupyter-widgets/base",
            "_model_module_version": "1.2.0",
            "_model_name": "LayoutModel",
            "_view_count": null,
            "_view_module": "@jupyter-widgets/base",
            "_view_module_version": "1.2.0",
            "_view_name": "LayoutView",
            "align_content": null,
            "align_items": null,
            "align_self": null,
            "border": null,
            "bottom": null,
            "display": null,
            "flex": null,
            "flex_flow": null,
            "grid_area": null,
            "grid_auto_columns": null,
            "grid_auto_flow": null,
            "grid_auto_rows": null,
            "grid_column": null,
            "grid_gap": null,
            "grid_row": null,
            "grid_template_areas": null,
            "grid_template_columns": null,
            "grid_template_rows": null,
            "height": null,
            "justify_content": null,
            "justify_items": null,
            "left": null,
            "margin": null,
            "max_height": null,
            "max_width": null,
            "min_height": null,
            "min_width": null,
            "object_fit": null,
            "object_position": null,
            "order": null,
            "overflow": null,
            "overflow_x": null,
            "overflow_y": null,
            "padding": null,
            "right": null,
            "top": null,
            "visibility": null,
            "width": null
          }
        }
      }
    }
  },
  "cells": [
    {
      "cell_type": "markdown",
      "source": [
        "## 2.5: Advanced Geospatial Plotting Part 2\n",
        "##### This notebook was completed in Google Colab"
      ],
      "metadata": {
        "id": "Fa5hp8qI14LN"
      }
    },
    {
      "cell_type": "code",
      "execution_count": null,
      "metadata": {
        "id": "Dz6V1-sTzt_o"
      },
      "outputs": [],
      "source": [
        "%%capture\n",
        "pip install keplergl"
      ]
    },
    {
      "cell_type": "code",
      "source": [
        "import pandas as pd\n",
        "import os\n",
        "from keplergl import KeplerGl\n",
        "from pyproj import CRS\n",
        "import numpy as np\n",
        "from matplotlib import pyplot as plt"
      ],
      "metadata": {
        "id": "BYcM2_qFzzAI"
      },
      "execution_count": null,
      "outputs": []
    },
    {
      "cell_type": "code",
      "source": [
        "df = pd.read_csv('/content/drive/MyDrive/NY_Citi_Bikes/Data/trip_locations.csv',index_col=0)\n"
      ],
      "metadata": {
        "id": "s1348bT10VRw"
      },
      "execution_count": null,
      "outputs": []
    },
    {
      "cell_type": "code",
      "source": [
        "df2 = pd.read_csv('/content/drive/MyDrive/NY_Citi_Bikes/Data/nyc_data.csv',index_col=0)"
      ],
      "metadata": {
        "id": "wUROMXdQ1Cow"
      },
      "execution_count": null,
      "outputs": []
    },
    {
      "cell_type": "code",
      "source": [
        "df.head()"
      ],
      "metadata": {
        "colab": {
          "base_uri": "https://localhost:8080/",
          "height": 206
        },
        "id": "LdsDoUlT1Lv4",
        "outputId": "08062bd3-f892-4a58-8d8d-025005acfe9a"
      },
      "execution_count": null,
      "outputs": [
        {
          "output_type": "execute_result",
          "data": {
            "text/plain": [
              "                  origin                        destination  trips  start_lat  \\\n",
              "0  11 St & Washington St              11 St & Washington St   1132  40.749985   \n",
              "1  11 St & Washington St                   12 Ave & W 40 St      1  40.749985   \n",
              "2  11 St & Washington St               12 St & Sinatra Dr N    253  40.749985   \n",
              "3  11 St & Washington St  14 St Ferry - 14 St & Shipyard Ln    395  40.749985   \n",
              "4  11 St & Washington St                    4 St & Grand St    350  40.749985   \n",
              "\n",
              "   start_lng    end_lat    end_lng  \n",
              "0  -74.02715  40.749985 -74.027150  \n",
              "1  -74.02715  40.760875 -74.002777  \n",
              "2  -74.02715  40.750604 -74.024020  \n",
              "3  -74.02715  40.752961 -74.024353  \n",
              "4  -74.02715  40.742258 -74.035111  "
            ],
            "text/html": [
              "\n",
              "  <div id=\"df-089dd279-e04f-4cb6-b178-042efdbb7f55\" class=\"colab-df-container\">\n",
              "    <div>\n",
              "<style scoped>\n",
              "    .dataframe tbody tr th:only-of-type {\n",
              "        vertical-align: middle;\n",
              "    }\n",
              "\n",
              "    .dataframe tbody tr th {\n",
              "        vertical-align: top;\n",
              "    }\n",
              "\n",
              "    .dataframe thead th {\n",
              "        text-align: right;\n",
              "    }\n",
              "</style>\n",
              "<table border=\"1\" class=\"dataframe\">\n",
              "  <thead>\n",
              "    <tr style=\"text-align: right;\">\n",
              "      <th></th>\n",
              "      <th>origin</th>\n",
              "      <th>destination</th>\n",
              "      <th>trips</th>\n",
              "      <th>start_lat</th>\n",
              "      <th>start_lng</th>\n",
              "      <th>end_lat</th>\n",
              "      <th>end_lng</th>\n",
              "    </tr>\n",
              "  </thead>\n",
              "  <tbody>\n",
              "    <tr>\n",
              "      <th>0</th>\n",
              "      <td>11 St &amp; Washington St</td>\n",
              "      <td>11 St &amp; Washington St</td>\n",
              "      <td>1132</td>\n",
              "      <td>40.749985</td>\n",
              "      <td>-74.02715</td>\n",
              "      <td>40.749985</td>\n",
              "      <td>-74.027150</td>\n",
              "    </tr>\n",
              "    <tr>\n",
              "      <th>1</th>\n",
              "      <td>11 St &amp; Washington St</td>\n",
              "      <td>12 Ave &amp; W 40 St</td>\n",
              "      <td>1</td>\n",
              "      <td>40.749985</td>\n",
              "      <td>-74.02715</td>\n",
              "      <td>40.760875</td>\n",
              "      <td>-74.002777</td>\n",
              "    </tr>\n",
              "    <tr>\n",
              "      <th>2</th>\n",
              "      <td>11 St &amp; Washington St</td>\n",
              "      <td>12 St &amp; Sinatra Dr N</td>\n",
              "      <td>253</td>\n",
              "      <td>40.749985</td>\n",
              "      <td>-74.02715</td>\n",
              "      <td>40.750604</td>\n",
              "      <td>-74.024020</td>\n",
              "    </tr>\n",
              "    <tr>\n",
              "      <th>3</th>\n",
              "      <td>11 St &amp; Washington St</td>\n",
              "      <td>14 St Ferry - 14 St &amp; Shipyard Ln</td>\n",
              "      <td>395</td>\n",
              "      <td>40.749985</td>\n",
              "      <td>-74.02715</td>\n",
              "      <td>40.752961</td>\n",
              "      <td>-74.024353</td>\n",
              "    </tr>\n",
              "    <tr>\n",
              "      <th>4</th>\n",
              "      <td>11 St &amp; Washington St</td>\n",
              "      <td>4 St &amp; Grand St</td>\n",
              "      <td>350</td>\n",
              "      <td>40.749985</td>\n",
              "      <td>-74.02715</td>\n",
              "      <td>40.742258</td>\n",
              "      <td>-74.035111</td>\n",
              "    </tr>\n",
              "  </tbody>\n",
              "</table>\n",
              "</div>\n",
              "    <div class=\"colab-df-buttons\">\n",
              "\n",
              "  <div class=\"colab-df-container\">\n",
              "    <button class=\"colab-df-convert\" onclick=\"convertToInteractive('df-089dd279-e04f-4cb6-b178-042efdbb7f55')\"\n",
              "            title=\"Convert this dataframe to an interactive table.\"\n",
              "            style=\"display:none;\">\n",
              "\n",
              "  <svg xmlns=\"http://www.w3.org/2000/svg\" height=\"24px\" viewBox=\"0 -960 960 960\">\n",
              "    <path d=\"M120-120v-720h720v720H120Zm60-500h600v-160H180v160Zm220 220h160v-160H400v160Zm0 220h160v-160H400v160ZM180-400h160v-160H180v160Zm440 0h160v-160H620v160ZM180-180h160v-160H180v160Zm440 0h160v-160H620v160Z\"/>\n",
              "  </svg>\n",
              "    </button>\n",
              "\n",
              "  <style>\n",
              "    .colab-df-container {\n",
              "      display:flex;\n",
              "      gap: 12px;\n",
              "    }\n",
              "\n",
              "    .colab-df-convert {\n",
              "      background-color: #E8F0FE;\n",
              "      border: none;\n",
              "      border-radius: 50%;\n",
              "      cursor: pointer;\n",
              "      display: none;\n",
              "      fill: #1967D2;\n",
              "      height: 32px;\n",
              "      padding: 0 0 0 0;\n",
              "      width: 32px;\n",
              "    }\n",
              "\n",
              "    .colab-df-convert:hover {\n",
              "      background-color: #E2EBFA;\n",
              "      box-shadow: 0px 1px 2px rgba(60, 64, 67, 0.3), 0px 1px 3px 1px rgba(60, 64, 67, 0.15);\n",
              "      fill: #174EA6;\n",
              "    }\n",
              "\n",
              "    .colab-df-buttons div {\n",
              "      margin-bottom: 4px;\n",
              "    }\n",
              "\n",
              "    [theme=dark] .colab-df-convert {\n",
              "      background-color: #3B4455;\n",
              "      fill: #D2E3FC;\n",
              "    }\n",
              "\n",
              "    [theme=dark] .colab-df-convert:hover {\n",
              "      background-color: #434B5C;\n",
              "      box-shadow: 0px 1px 3px 1px rgba(0, 0, 0, 0.15);\n",
              "      filter: drop-shadow(0px 1px 2px rgba(0, 0, 0, 0.3));\n",
              "      fill: #FFFFFF;\n",
              "    }\n",
              "  </style>\n",
              "\n",
              "    <script>\n",
              "      const buttonEl =\n",
              "        document.querySelector('#df-089dd279-e04f-4cb6-b178-042efdbb7f55 button.colab-df-convert');\n",
              "      buttonEl.style.display =\n",
              "        google.colab.kernel.accessAllowed ? 'block' : 'none';\n",
              "\n",
              "      async function convertToInteractive(key) {\n",
              "        const element = document.querySelector('#df-089dd279-e04f-4cb6-b178-042efdbb7f55');\n",
              "        const dataTable =\n",
              "          await google.colab.kernel.invokeFunction('convertToInteractive',\n",
              "                                                    [key], {});\n",
              "        if (!dataTable) return;\n",
              "\n",
              "        const docLinkHtml = 'Like what you see? Visit the ' +\n",
              "          '<a target=\"_blank\" href=https://colab.research.google.com/notebooks/data_table.ipynb>data table notebook</a>'\n",
              "          + ' to learn more about interactive tables.';\n",
              "        element.innerHTML = '';\n",
              "        dataTable['output_type'] = 'display_data';\n",
              "        await google.colab.output.renderOutput(dataTable, element);\n",
              "        const docLink = document.createElement('div');\n",
              "        docLink.innerHTML = docLinkHtml;\n",
              "        element.appendChild(docLink);\n",
              "      }\n",
              "    </script>\n",
              "  </div>\n",
              "\n",
              "\n",
              "<div id=\"df-18611194-bf38-41c2-9221-c9308b5d10ec\">\n",
              "  <button class=\"colab-df-quickchart\" onclick=\"quickchart('df-18611194-bf38-41c2-9221-c9308b5d10ec')\"\n",
              "            title=\"Suggest charts\"\n",
              "            style=\"display:none;\">\n",
              "\n",
              "<svg xmlns=\"http://www.w3.org/2000/svg\" height=\"24px\"viewBox=\"0 0 24 24\"\n",
              "     width=\"24px\">\n",
              "    <g>\n",
              "        <path d=\"M19 3H5c-1.1 0-2 .9-2 2v14c0 1.1.9 2 2 2h14c1.1 0 2-.9 2-2V5c0-1.1-.9-2-2-2zM9 17H7v-7h2v7zm4 0h-2V7h2v10zm4 0h-2v-4h2v4z\"/>\n",
              "    </g>\n",
              "</svg>\n",
              "  </button>\n",
              "\n",
              "<style>\n",
              "  .colab-df-quickchart {\n",
              "      --bg-color: #E8F0FE;\n",
              "      --fill-color: #1967D2;\n",
              "      --hover-bg-color: #E2EBFA;\n",
              "      --hover-fill-color: #174EA6;\n",
              "      --disabled-fill-color: #AAA;\n",
              "      --disabled-bg-color: #DDD;\n",
              "  }\n",
              "\n",
              "  [theme=dark] .colab-df-quickchart {\n",
              "      --bg-color: #3B4455;\n",
              "      --fill-color: #D2E3FC;\n",
              "      --hover-bg-color: #434B5C;\n",
              "      --hover-fill-color: #FFFFFF;\n",
              "      --disabled-bg-color: #3B4455;\n",
              "      --disabled-fill-color: #666;\n",
              "  }\n",
              "\n",
              "  .colab-df-quickchart {\n",
              "    background-color: var(--bg-color);\n",
              "    border: none;\n",
              "    border-radius: 50%;\n",
              "    cursor: pointer;\n",
              "    display: none;\n",
              "    fill: var(--fill-color);\n",
              "    height: 32px;\n",
              "    padding: 0;\n",
              "    width: 32px;\n",
              "  }\n",
              "\n",
              "  .colab-df-quickchart:hover {\n",
              "    background-color: var(--hover-bg-color);\n",
              "    box-shadow: 0 1px 2px rgba(60, 64, 67, 0.3), 0 1px 3px 1px rgba(60, 64, 67, 0.15);\n",
              "    fill: var(--button-hover-fill-color);\n",
              "  }\n",
              "\n",
              "  .colab-df-quickchart-complete:disabled,\n",
              "  .colab-df-quickchart-complete:disabled:hover {\n",
              "    background-color: var(--disabled-bg-color);\n",
              "    fill: var(--disabled-fill-color);\n",
              "    box-shadow: none;\n",
              "  }\n",
              "\n",
              "  .colab-df-spinner {\n",
              "    border: 2px solid var(--fill-color);\n",
              "    border-color: transparent;\n",
              "    border-bottom-color: var(--fill-color);\n",
              "    animation:\n",
              "      spin 1s steps(1) infinite;\n",
              "  }\n",
              "\n",
              "  @keyframes spin {\n",
              "    0% {\n",
              "      border-color: transparent;\n",
              "      border-bottom-color: var(--fill-color);\n",
              "      border-left-color: var(--fill-color);\n",
              "    }\n",
              "    20% {\n",
              "      border-color: transparent;\n",
              "      border-left-color: var(--fill-color);\n",
              "      border-top-color: var(--fill-color);\n",
              "    }\n",
              "    30% {\n",
              "      border-color: transparent;\n",
              "      border-left-color: var(--fill-color);\n",
              "      border-top-color: var(--fill-color);\n",
              "      border-right-color: var(--fill-color);\n",
              "    }\n",
              "    40% {\n",
              "      border-color: transparent;\n",
              "      border-right-color: var(--fill-color);\n",
              "      border-top-color: var(--fill-color);\n",
              "    }\n",
              "    60% {\n",
              "      border-color: transparent;\n",
              "      border-right-color: var(--fill-color);\n",
              "    }\n",
              "    80% {\n",
              "      border-color: transparent;\n",
              "      border-right-color: var(--fill-color);\n",
              "      border-bottom-color: var(--fill-color);\n",
              "    }\n",
              "    90% {\n",
              "      border-color: transparent;\n",
              "      border-bottom-color: var(--fill-color);\n",
              "    }\n",
              "  }\n",
              "</style>\n",
              "\n",
              "  <script>\n",
              "    async function quickchart(key) {\n",
              "      const quickchartButtonEl =\n",
              "        document.querySelector('#' + key + ' button');\n",
              "      quickchartButtonEl.disabled = true;  // To prevent multiple clicks.\n",
              "      quickchartButtonEl.classList.add('colab-df-spinner');\n",
              "      try {\n",
              "        const charts = await google.colab.kernel.invokeFunction(\n",
              "            'suggestCharts', [key], {});\n",
              "      } catch (error) {\n",
              "        console.error('Error during call to suggestCharts:', error);\n",
              "      }\n",
              "      quickchartButtonEl.classList.remove('colab-df-spinner');\n",
              "      quickchartButtonEl.classList.add('colab-df-quickchart-complete');\n",
              "    }\n",
              "    (() => {\n",
              "      let quickchartButtonEl =\n",
              "        document.querySelector('#df-18611194-bf38-41c2-9221-c9308b5d10ec button');\n",
              "      quickchartButtonEl.style.display =\n",
              "        google.colab.kernel.accessAllowed ? 'block' : 'none';\n",
              "    })();\n",
              "  </script>\n",
              "</div>\n",
              "\n",
              "    </div>\n",
              "  </div>\n"
            ],
            "application/vnd.google.colaboratory.intrinsic+json": {
              "type": "dataframe",
              "variable_name": "df",
              "summary": "{\n  \"name\": \"df\",\n  \"rows\": 6953,\n  \"fields\": [\n    {\n      \"column\": \"origin\",\n      \"properties\": {\n        \"dtype\": \"category\",\n        \"num_unique_values\": 84,\n        \"samples\": [\n          \"Riverview Park\",\n          \"11 St & Washington St\",\n          \"Madison St & 10 St\"\n        ],\n        \"semantic_type\": \"\",\n        \"description\": \"\"\n      }\n    },\n    {\n      \"column\": \"destination\",\n      \"properties\": {\n        \"dtype\": \"category\",\n        \"num_unique_values\": 320,\n        \"samples\": [\n          \"Myrtle Ave & St Edwards St\",\n          \"W 20 St & 10 Ave\",\n          \"Clinton St & Newark St\"\n        ],\n        \"semantic_type\": \"\",\n        \"description\": \"\"\n      }\n    },\n    {\n      \"column\": \"trips\",\n      \"properties\": {\n        \"dtype\": \"number\",\n        \"std\": 304,\n        \"min\": 1,\n        \"max\": 5565,\n        \"num_unique_values\": 800,\n        \"samples\": [\n          735,\n          1184,\n          166\n        ],\n        \"semantic_type\": \"\",\n        \"description\": \"\"\n      }\n    },\n    {\n      \"column\": \"start_lat\",\n      \"properties\": {\n        \"dtype\": \"number\",\n        \"std\": 0.012875397861470454,\n        \"min\": 40.70657545063453,\n        \"max\": 40.75453,\n        \"num_unique_values\": 84,\n        \"samples\": [\n          40.7443187,\n          40.74998490907138,\n          40.74994325412246\n        ],\n        \"semantic_type\": \"\",\n        \"description\": \"\"\n      }\n    },\n    {\n      \"column\": \"start_lng\",\n      \"properties\": {\n        \"dtype\": \"number\",\n        \"std\": 0.014977430795352395,\n        \"min\": -74.08896387030836,\n        \"max\": -74.02402013540268,\n        \"num_unique_values\": 84,\n        \"samples\": [\n          -74.0439909,\n          -74.02715027332306,\n          -74.03586477041245\n        ],\n        \"semantic_type\": \"\",\n        \"description\": \"\"\n      }\n    },\n    {\n      \"column\": \"end_lat\",\n      \"properties\": {\n        \"dtype\": \"number\",\n        \"std\": 0.01603803998555485,\n        \"min\": 40.6630619,\n        \"max\": 40.872412,\n        \"num_unique_values\": 317,\n        \"samples\": [\n          40.7272235,\n          40.72706363348306,\n          40.73743\n        ],\n        \"semantic_type\": \"\",\n        \"description\": \"\"\n      }\n    },\n    {\n      \"column\": \"end_lng\",\n      \"properties\": {\n        \"dtype\": \"number\",\n        \"std\": 0.021361428030744714,\n        \"min\": -74.08896387030836,\n        \"max\": -73.888271,\n        \"num_unique_values\": 318,\n        \"samples\": [\n          -74.0337589,\n          -74.01089876890182,\n          -74.03571\n        ],\n        \"semantic_type\": \"\",\n        \"description\": \"\"\n      }\n    }\n  ]\n}"
            }
          },
          "metadata": {},
          "execution_count": 7
        }
      ]
    },
    {
      "cell_type": "code",
      "source": [
        "df2.head()"
      ],
      "metadata": {
        "colab": {
          "base_uri": "https://localhost:8080/",
          "height": 399
        },
        "id": "Z6QzzyHJ1Yhb",
        "outputId": "675350a9-0186-493c-9bef-830a0bd92e6b"
      },
      "execution_count": null,
      "outputs": [
        {
          "output_type": "execute_result",
          "data": {
            "text/plain": [
              "            ride_id  rideable_type           started_at             ended_at  \\\n",
              "0  CA5837152804D4B5  electric_bike  2022-01-26 18:50:39  2022-01-26 18:51:53   \n",
              "1  BA06A5E45B6601D2   classic_bike  2022-01-28 13:14:07  2022-01-28 13:20:23   \n",
              "2  7B6827D7B9508D93   classic_bike  2022-01-10 19:55:13  2022-01-10 20:00:37   \n",
              "3  6E5864EA6FCEC90D  electric_bike  2022-01-26 07:54:57  2022-01-26 07:55:22   \n",
              "4  E24954255BBDE32D  electric_bike  2022-01-13 18:44:46  2022-01-13 18:45:43   \n",
              "\n",
              "     start_station_name start_station_id      end_station_name end_station_id  \\\n",
              "0  12 St & Sinatra Dr N            HB201  12 St & Sinatra Dr N          HB201   \n",
              "1      Essex Light Rail            JC038      Essex Light Rail          JC038   \n",
              "2      Essex Light Rail            JC038      Essex Light Rail          JC038   \n",
              "3  12 St & Sinatra Dr N            HB201  12 St & Sinatra Dr N          HB201   \n",
              "4  12 St & Sinatra Dr N            HB201  12 St & Sinatra Dr N          HB201   \n",
              "\n",
              "   start_lat  start_lng    end_lat    end_lng member_casual  \\\n",
              "0  40.750604 -74.024020  40.750604 -74.024020        member   \n",
              "1  40.712774 -74.036486  40.712774 -74.036486        member   \n",
              "2  40.712774 -74.036486  40.712774 -74.036486        member   \n",
              "3  40.750604 -74.024020  40.750604 -74.024020        member   \n",
              "4  40.750604 -74.024020  40.750604 -74.024020        member   \n",
              "\n",
              "            start_time        date             end_time  avgTemp _merge  \n",
              "0  2022-01-26 18:50:39  2022-01-26  2022-01-26 18:51:53     -2.3   both  \n",
              "1  2022-01-28 13:14:07  2022-01-28  2022-01-28 13:20:23      0.1   both  \n",
              "2  2022-01-10 19:55:13  2022-01-10  2022-01-10 20:00:37      1.6   both  \n",
              "3  2022-01-26 07:54:57  2022-01-26  2022-01-26 07:55:22     -2.3   both  \n",
              "4  2022-01-13 18:44:46  2022-01-13  2022-01-13 18:45:43      4.0   both  "
            ],
            "text/html": [
              "\n",
              "  <div id=\"df-b51afc68-c781-4ce7-a8b2-6e08cc5c410a\" class=\"colab-df-container\">\n",
              "    <div>\n",
              "<style scoped>\n",
              "    .dataframe tbody tr th:only-of-type {\n",
              "        vertical-align: middle;\n",
              "    }\n",
              "\n",
              "    .dataframe tbody tr th {\n",
              "        vertical-align: top;\n",
              "    }\n",
              "\n",
              "    .dataframe thead th {\n",
              "        text-align: right;\n",
              "    }\n",
              "</style>\n",
              "<table border=\"1\" class=\"dataframe\">\n",
              "  <thead>\n",
              "    <tr style=\"text-align: right;\">\n",
              "      <th></th>\n",
              "      <th>ride_id</th>\n",
              "      <th>rideable_type</th>\n",
              "      <th>started_at</th>\n",
              "      <th>ended_at</th>\n",
              "      <th>start_station_name</th>\n",
              "      <th>start_station_id</th>\n",
              "      <th>end_station_name</th>\n",
              "      <th>end_station_id</th>\n",
              "      <th>start_lat</th>\n",
              "      <th>start_lng</th>\n",
              "      <th>end_lat</th>\n",
              "      <th>end_lng</th>\n",
              "      <th>member_casual</th>\n",
              "      <th>start_time</th>\n",
              "      <th>date</th>\n",
              "      <th>end_time</th>\n",
              "      <th>avgTemp</th>\n",
              "      <th>_merge</th>\n",
              "    </tr>\n",
              "  </thead>\n",
              "  <tbody>\n",
              "    <tr>\n",
              "      <th>0</th>\n",
              "      <td>CA5837152804D4B5</td>\n",
              "      <td>electric_bike</td>\n",
              "      <td>2022-01-26 18:50:39</td>\n",
              "      <td>2022-01-26 18:51:53</td>\n",
              "      <td>12 St &amp; Sinatra Dr N</td>\n",
              "      <td>HB201</td>\n",
              "      <td>12 St &amp; Sinatra Dr N</td>\n",
              "      <td>HB201</td>\n",
              "      <td>40.750604</td>\n",
              "      <td>-74.024020</td>\n",
              "      <td>40.750604</td>\n",
              "      <td>-74.024020</td>\n",
              "      <td>member</td>\n",
              "      <td>2022-01-26 18:50:39</td>\n",
              "      <td>2022-01-26</td>\n",
              "      <td>2022-01-26 18:51:53</td>\n",
              "      <td>-2.3</td>\n",
              "      <td>both</td>\n",
              "    </tr>\n",
              "    <tr>\n",
              "      <th>1</th>\n",
              "      <td>BA06A5E45B6601D2</td>\n",
              "      <td>classic_bike</td>\n",
              "      <td>2022-01-28 13:14:07</td>\n",
              "      <td>2022-01-28 13:20:23</td>\n",
              "      <td>Essex Light Rail</td>\n",
              "      <td>JC038</td>\n",
              "      <td>Essex Light Rail</td>\n",
              "      <td>JC038</td>\n",
              "      <td>40.712774</td>\n",
              "      <td>-74.036486</td>\n",
              "      <td>40.712774</td>\n",
              "      <td>-74.036486</td>\n",
              "      <td>member</td>\n",
              "      <td>2022-01-28 13:14:07</td>\n",
              "      <td>2022-01-28</td>\n",
              "      <td>2022-01-28 13:20:23</td>\n",
              "      <td>0.1</td>\n",
              "      <td>both</td>\n",
              "    </tr>\n",
              "    <tr>\n",
              "      <th>2</th>\n",
              "      <td>7B6827D7B9508D93</td>\n",
              "      <td>classic_bike</td>\n",
              "      <td>2022-01-10 19:55:13</td>\n",
              "      <td>2022-01-10 20:00:37</td>\n",
              "      <td>Essex Light Rail</td>\n",
              "      <td>JC038</td>\n",
              "      <td>Essex Light Rail</td>\n",
              "      <td>JC038</td>\n",
              "      <td>40.712774</td>\n",
              "      <td>-74.036486</td>\n",
              "      <td>40.712774</td>\n",
              "      <td>-74.036486</td>\n",
              "      <td>member</td>\n",
              "      <td>2022-01-10 19:55:13</td>\n",
              "      <td>2022-01-10</td>\n",
              "      <td>2022-01-10 20:00:37</td>\n",
              "      <td>1.6</td>\n",
              "      <td>both</td>\n",
              "    </tr>\n",
              "    <tr>\n",
              "      <th>3</th>\n",
              "      <td>6E5864EA6FCEC90D</td>\n",
              "      <td>electric_bike</td>\n",
              "      <td>2022-01-26 07:54:57</td>\n",
              "      <td>2022-01-26 07:55:22</td>\n",
              "      <td>12 St &amp; Sinatra Dr N</td>\n",
              "      <td>HB201</td>\n",
              "      <td>12 St &amp; Sinatra Dr N</td>\n",
              "      <td>HB201</td>\n",
              "      <td>40.750604</td>\n",
              "      <td>-74.024020</td>\n",
              "      <td>40.750604</td>\n",
              "      <td>-74.024020</td>\n",
              "      <td>member</td>\n",
              "      <td>2022-01-26 07:54:57</td>\n",
              "      <td>2022-01-26</td>\n",
              "      <td>2022-01-26 07:55:22</td>\n",
              "      <td>-2.3</td>\n",
              "      <td>both</td>\n",
              "    </tr>\n",
              "    <tr>\n",
              "      <th>4</th>\n",
              "      <td>E24954255BBDE32D</td>\n",
              "      <td>electric_bike</td>\n",
              "      <td>2022-01-13 18:44:46</td>\n",
              "      <td>2022-01-13 18:45:43</td>\n",
              "      <td>12 St &amp; Sinatra Dr N</td>\n",
              "      <td>HB201</td>\n",
              "      <td>12 St &amp; Sinatra Dr N</td>\n",
              "      <td>HB201</td>\n",
              "      <td>40.750604</td>\n",
              "      <td>-74.024020</td>\n",
              "      <td>40.750604</td>\n",
              "      <td>-74.024020</td>\n",
              "      <td>member</td>\n",
              "      <td>2022-01-13 18:44:46</td>\n",
              "      <td>2022-01-13</td>\n",
              "      <td>2022-01-13 18:45:43</td>\n",
              "      <td>4.0</td>\n",
              "      <td>both</td>\n",
              "    </tr>\n",
              "  </tbody>\n",
              "</table>\n",
              "</div>\n",
              "    <div class=\"colab-df-buttons\">\n",
              "\n",
              "  <div class=\"colab-df-container\">\n",
              "    <button class=\"colab-df-convert\" onclick=\"convertToInteractive('df-b51afc68-c781-4ce7-a8b2-6e08cc5c410a')\"\n",
              "            title=\"Convert this dataframe to an interactive table.\"\n",
              "            style=\"display:none;\">\n",
              "\n",
              "  <svg xmlns=\"http://www.w3.org/2000/svg\" height=\"24px\" viewBox=\"0 -960 960 960\">\n",
              "    <path d=\"M120-120v-720h720v720H120Zm60-500h600v-160H180v160Zm220 220h160v-160H400v160Zm0 220h160v-160H400v160ZM180-400h160v-160H180v160Zm440 0h160v-160H620v160ZM180-180h160v-160H180v160Zm440 0h160v-160H620v160Z\"/>\n",
              "  </svg>\n",
              "    </button>\n",
              "\n",
              "  <style>\n",
              "    .colab-df-container {\n",
              "      display:flex;\n",
              "      gap: 12px;\n",
              "    }\n",
              "\n",
              "    .colab-df-convert {\n",
              "      background-color: #E8F0FE;\n",
              "      border: none;\n",
              "      border-radius: 50%;\n",
              "      cursor: pointer;\n",
              "      display: none;\n",
              "      fill: #1967D2;\n",
              "      height: 32px;\n",
              "      padding: 0 0 0 0;\n",
              "      width: 32px;\n",
              "    }\n",
              "\n",
              "    .colab-df-convert:hover {\n",
              "      background-color: #E2EBFA;\n",
              "      box-shadow: 0px 1px 2px rgba(60, 64, 67, 0.3), 0px 1px 3px 1px rgba(60, 64, 67, 0.15);\n",
              "      fill: #174EA6;\n",
              "    }\n",
              "\n",
              "    .colab-df-buttons div {\n",
              "      margin-bottom: 4px;\n",
              "    }\n",
              "\n",
              "    [theme=dark] .colab-df-convert {\n",
              "      background-color: #3B4455;\n",
              "      fill: #D2E3FC;\n",
              "    }\n",
              "\n",
              "    [theme=dark] .colab-df-convert:hover {\n",
              "      background-color: #434B5C;\n",
              "      box-shadow: 0px 1px 3px 1px rgba(0, 0, 0, 0.15);\n",
              "      filter: drop-shadow(0px 1px 2px rgba(0, 0, 0, 0.3));\n",
              "      fill: #FFFFFF;\n",
              "    }\n",
              "  </style>\n",
              "\n",
              "    <script>\n",
              "      const buttonEl =\n",
              "        document.querySelector('#df-b51afc68-c781-4ce7-a8b2-6e08cc5c410a button.colab-df-convert');\n",
              "      buttonEl.style.display =\n",
              "        google.colab.kernel.accessAllowed ? 'block' : 'none';\n",
              "\n",
              "      async function convertToInteractive(key) {\n",
              "        const element = document.querySelector('#df-b51afc68-c781-4ce7-a8b2-6e08cc5c410a');\n",
              "        const dataTable =\n",
              "          await google.colab.kernel.invokeFunction('convertToInteractive',\n",
              "                                                    [key], {});\n",
              "        if (!dataTable) return;\n",
              "\n",
              "        const docLinkHtml = 'Like what you see? Visit the ' +\n",
              "          '<a target=\"_blank\" href=https://colab.research.google.com/notebooks/data_table.ipynb>data table notebook</a>'\n",
              "          + ' to learn more about interactive tables.';\n",
              "        element.innerHTML = '';\n",
              "        dataTable['output_type'] = 'display_data';\n",
              "        await google.colab.output.renderOutput(dataTable, element);\n",
              "        const docLink = document.createElement('div');\n",
              "        docLink.innerHTML = docLinkHtml;\n",
              "        element.appendChild(docLink);\n",
              "      }\n",
              "    </script>\n",
              "  </div>\n",
              "\n",
              "\n",
              "<div id=\"df-a8fa6c13-f03e-43b9-89da-17693a476523\">\n",
              "  <button class=\"colab-df-quickchart\" onclick=\"quickchart('df-a8fa6c13-f03e-43b9-89da-17693a476523')\"\n",
              "            title=\"Suggest charts\"\n",
              "            style=\"display:none;\">\n",
              "\n",
              "<svg xmlns=\"http://www.w3.org/2000/svg\" height=\"24px\"viewBox=\"0 0 24 24\"\n",
              "     width=\"24px\">\n",
              "    <g>\n",
              "        <path d=\"M19 3H5c-1.1 0-2 .9-2 2v14c0 1.1.9 2 2 2h14c1.1 0 2-.9 2-2V5c0-1.1-.9-2-2-2zM9 17H7v-7h2v7zm4 0h-2V7h2v10zm4 0h-2v-4h2v4z\"/>\n",
              "    </g>\n",
              "</svg>\n",
              "  </button>\n",
              "\n",
              "<style>\n",
              "  .colab-df-quickchart {\n",
              "      --bg-color: #E8F0FE;\n",
              "      --fill-color: #1967D2;\n",
              "      --hover-bg-color: #E2EBFA;\n",
              "      --hover-fill-color: #174EA6;\n",
              "      --disabled-fill-color: #AAA;\n",
              "      --disabled-bg-color: #DDD;\n",
              "  }\n",
              "\n",
              "  [theme=dark] .colab-df-quickchart {\n",
              "      --bg-color: #3B4455;\n",
              "      --fill-color: #D2E3FC;\n",
              "      --hover-bg-color: #434B5C;\n",
              "      --hover-fill-color: #FFFFFF;\n",
              "      --disabled-bg-color: #3B4455;\n",
              "      --disabled-fill-color: #666;\n",
              "  }\n",
              "\n",
              "  .colab-df-quickchart {\n",
              "    background-color: var(--bg-color);\n",
              "    border: none;\n",
              "    border-radius: 50%;\n",
              "    cursor: pointer;\n",
              "    display: none;\n",
              "    fill: var(--fill-color);\n",
              "    height: 32px;\n",
              "    padding: 0;\n",
              "    width: 32px;\n",
              "  }\n",
              "\n",
              "  .colab-df-quickchart:hover {\n",
              "    background-color: var(--hover-bg-color);\n",
              "    box-shadow: 0 1px 2px rgba(60, 64, 67, 0.3), 0 1px 3px 1px rgba(60, 64, 67, 0.15);\n",
              "    fill: var(--button-hover-fill-color);\n",
              "  }\n",
              "\n",
              "  .colab-df-quickchart-complete:disabled,\n",
              "  .colab-df-quickchart-complete:disabled:hover {\n",
              "    background-color: var(--disabled-bg-color);\n",
              "    fill: var(--disabled-fill-color);\n",
              "    box-shadow: none;\n",
              "  }\n",
              "\n",
              "  .colab-df-spinner {\n",
              "    border: 2px solid var(--fill-color);\n",
              "    border-color: transparent;\n",
              "    border-bottom-color: var(--fill-color);\n",
              "    animation:\n",
              "      spin 1s steps(1) infinite;\n",
              "  }\n",
              "\n",
              "  @keyframes spin {\n",
              "    0% {\n",
              "      border-color: transparent;\n",
              "      border-bottom-color: var(--fill-color);\n",
              "      border-left-color: var(--fill-color);\n",
              "    }\n",
              "    20% {\n",
              "      border-color: transparent;\n",
              "      border-left-color: var(--fill-color);\n",
              "      border-top-color: var(--fill-color);\n",
              "    }\n",
              "    30% {\n",
              "      border-color: transparent;\n",
              "      border-left-color: var(--fill-color);\n",
              "      border-top-color: var(--fill-color);\n",
              "      border-right-color: var(--fill-color);\n",
              "    }\n",
              "    40% {\n",
              "      border-color: transparent;\n",
              "      border-right-color: var(--fill-color);\n",
              "      border-top-color: var(--fill-color);\n",
              "    }\n",
              "    60% {\n",
              "      border-color: transparent;\n",
              "      border-right-color: var(--fill-color);\n",
              "    }\n",
              "    80% {\n",
              "      border-color: transparent;\n",
              "      border-right-color: var(--fill-color);\n",
              "      border-bottom-color: var(--fill-color);\n",
              "    }\n",
              "    90% {\n",
              "      border-color: transparent;\n",
              "      border-bottom-color: var(--fill-color);\n",
              "    }\n",
              "  }\n",
              "</style>\n",
              "\n",
              "  <script>\n",
              "    async function quickchart(key) {\n",
              "      const quickchartButtonEl =\n",
              "        document.querySelector('#' + key + ' button');\n",
              "      quickchartButtonEl.disabled = true;  // To prevent multiple clicks.\n",
              "      quickchartButtonEl.classList.add('colab-df-spinner');\n",
              "      try {\n",
              "        const charts = await google.colab.kernel.invokeFunction(\n",
              "            'suggestCharts', [key], {});\n",
              "      } catch (error) {\n",
              "        console.error('Error during call to suggestCharts:', error);\n",
              "      }\n",
              "      quickchartButtonEl.classList.remove('colab-df-spinner');\n",
              "      quickchartButtonEl.classList.add('colab-df-quickchart-complete');\n",
              "    }\n",
              "    (() => {\n",
              "      let quickchartButtonEl =\n",
              "        document.querySelector('#df-a8fa6c13-f03e-43b9-89da-17693a476523 button');\n",
              "      quickchartButtonEl.style.display =\n",
              "        google.colab.kernel.accessAllowed ? 'block' : 'none';\n",
              "    })();\n",
              "  </script>\n",
              "</div>\n",
              "\n",
              "    </div>\n",
              "  </div>\n"
            ],
            "application/vnd.google.colaboratory.intrinsic+json": {
              "type": "dataframe",
              "variable_name": "df2"
            }
          },
          "metadata": {},
          "execution_count": 8
        }
      ]
    },
    {
      "cell_type": "code",
      "source": [
        "df2['value'] = 1"
      ],
      "metadata": {
        "id": "j4SO4Z061ddI"
      },
      "execution_count": null,
      "outputs": []
    },
    {
      "cell_type": "code",
      "source": [
        "df_t = df2.groupby(['start_station_name'])['value'].count().reset_index()"
      ],
      "metadata": {
        "id": "cFBs3Okx1hKs"
      },
      "execution_count": null,
      "outputs": []
    },
    {
      "cell_type": "code",
      "source": [
        "df_t.head()"
      ],
      "metadata": {
        "colab": {
          "base_uri": "https://localhost:8080/",
          "height": 206
        },
        "id": "na7bcBbH1pxU",
        "outputId": "11c44183-d8bb-4d57-af7e-91c35c631f20"
      },
      "execution_count": null,
      "outputs": [
        {
          "output_type": "execute_result",
          "data": {
            "text/plain": [
              "                  start_station_name  value\n",
              "0              11 St & Washington St  15502\n",
              "1               12 St & Sinatra Dr N  17137\n",
              "2  14 St Ferry - 14 St & Shipyard Ln  17066\n",
              "3                    4 St & Grand St  10356\n",
              "4                  5 Corners Library   3043"
            ],
            "text/html": [
              "\n",
              "  <div id=\"df-4f9be296-a947-462e-9849-3d899ab5ffd3\" class=\"colab-df-container\">\n",
              "    <div>\n",
              "<style scoped>\n",
              "    .dataframe tbody tr th:only-of-type {\n",
              "        vertical-align: middle;\n",
              "    }\n",
              "\n",
              "    .dataframe tbody tr th {\n",
              "        vertical-align: top;\n",
              "    }\n",
              "\n",
              "    .dataframe thead th {\n",
              "        text-align: right;\n",
              "    }\n",
              "</style>\n",
              "<table border=\"1\" class=\"dataframe\">\n",
              "  <thead>\n",
              "    <tr style=\"text-align: right;\">\n",
              "      <th></th>\n",
              "      <th>start_station_name</th>\n",
              "      <th>value</th>\n",
              "    </tr>\n",
              "  </thead>\n",
              "  <tbody>\n",
              "    <tr>\n",
              "      <th>0</th>\n",
              "      <td>11 St &amp; Washington St</td>\n",
              "      <td>15502</td>\n",
              "    </tr>\n",
              "    <tr>\n",
              "      <th>1</th>\n",
              "      <td>12 St &amp; Sinatra Dr N</td>\n",
              "      <td>17137</td>\n",
              "    </tr>\n",
              "    <tr>\n",
              "      <th>2</th>\n",
              "      <td>14 St Ferry - 14 St &amp; Shipyard Ln</td>\n",
              "      <td>17066</td>\n",
              "    </tr>\n",
              "    <tr>\n",
              "      <th>3</th>\n",
              "      <td>4 St &amp; Grand St</td>\n",
              "      <td>10356</td>\n",
              "    </tr>\n",
              "    <tr>\n",
              "      <th>4</th>\n",
              "      <td>5 Corners Library</td>\n",
              "      <td>3043</td>\n",
              "    </tr>\n",
              "  </tbody>\n",
              "</table>\n",
              "</div>\n",
              "    <div class=\"colab-df-buttons\">\n",
              "\n",
              "  <div class=\"colab-df-container\">\n",
              "    <button class=\"colab-df-convert\" onclick=\"convertToInteractive('df-4f9be296-a947-462e-9849-3d899ab5ffd3')\"\n",
              "            title=\"Convert this dataframe to an interactive table.\"\n",
              "            style=\"display:none;\">\n",
              "\n",
              "  <svg xmlns=\"http://www.w3.org/2000/svg\" height=\"24px\" viewBox=\"0 -960 960 960\">\n",
              "    <path d=\"M120-120v-720h720v720H120Zm60-500h600v-160H180v160Zm220 220h160v-160H400v160Zm0 220h160v-160H400v160ZM180-400h160v-160H180v160Zm440 0h160v-160H620v160ZM180-180h160v-160H180v160Zm440 0h160v-160H620v160Z\"/>\n",
              "  </svg>\n",
              "    </button>\n",
              "\n",
              "  <style>\n",
              "    .colab-df-container {\n",
              "      display:flex;\n",
              "      gap: 12px;\n",
              "    }\n",
              "\n",
              "    .colab-df-convert {\n",
              "      background-color: #E8F0FE;\n",
              "      border: none;\n",
              "      border-radius: 50%;\n",
              "      cursor: pointer;\n",
              "      display: none;\n",
              "      fill: #1967D2;\n",
              "      height: 32px;\n",
              "      padding: 0 0 0 0;\n",
              "      width: 32px;\n",
              "    }\n",
              "\n",
              "    .colab-df-convert:hover {\n",
              "      background-color: #E2EBFA;\n",
              "      box-shadow: 0px 1px 2px rgba(60, 64, 67, 0.3), 0px 1px 3px 1px rgba(60, 64, 67, 0.15);\n",
              "      fill: #174EA6;\n",
              "    }\n",
              "\n",
              "    .colab-df-buttons div {\n",
              "      margin-bottom: 4px;\n",
              "    }\n",
              "\n",
              "    [theme=dark] .colab-df-convert {\n",
              "      background-color: #3B4455;\n",
              "      fill: #D2E3FC;\n",
              "    }\n",
              "\n",
              "    [theme=dark] .colab-df-convert:hover {\n",
              "      background-color: #434B5C;\n",
              "      box-shadow: 0px 1px 3px 1px rgba(0, 0, 0, 0.15);\n",
              "      filter: drop-shadow(0px 1px 2px rgba(0, 0, 0, 0.3));\n",
              "      fill: #FFFFFF;\n",
              "    }\n",
              "  </style>\n",
              "\n",
              "    <script>\n",
              "      const buttonEl =\n",
              "        document.querySelector('#df-4f9be296-a947-462e-9849-3d899ab5ffd3 button.colab-df-convert');\n",
              "      buttonEl.style.display =\n",
              "        google.colab.kernel.accessAllowed ? 'block' : 'none';\n",
              "\n",
              "      async function convertToInteractive(key) {\n",
              "        const element = document.querySelector('#df-4f9be296-a947-462e-9849-3d899ab5ffd3');\n",
              "        const dataTable =\n",
              "          await google.colab.kernel.invokeFunction('convertToInteractive',\n",
              "                                                    [key], {});\n",
              "        if (!dataTable) return;\n",
              "\n",
              "        const docLinkHtml = 'Like what you see? Visit the ' +\n",
              "          '<a target=\"_blank\" href=https://colab.research.google.com/notebooks/data_table.ipynb>data table notebook</a>'\n",
              "          + ' to learn more about interactive tables.';\n",
              "        element.innerHTML = '';\n",
              "        dataTable['output_type'] = 'display_data';\n",
              "        await google.colab.output.renderOutput(dataTable, element);\n",
              "        const docLink = document.createElement('div');\n",
              "        docLink.innerHTML = docLinkHtml;\n",
              "        element.appendChild(docLink);\n",
              "      }\n",
              "    </script>\n",
              "  </div>\n",
              "\n",
              "\n",
              "<div id=\"df-5a12c09e-4b57-41ec-be55-83030cd4b05c\">\n",
              "  <button class=\"colab-df-quickchart\" onclick=\"quickchart('df-5a12c09e-4b57-41ec-be55-83030cd4b05c')\"\n",
              "            title=\"Suggest charts\"\n",
              "            style=\"display:none;\">\n",
              "\n",
              "<svg xmlns=\"http://www.w3.org/2000/svg\" height=\"24px\"viewBox=\"0 0 24 24\"\n",
              "     width=\"24px\">\n",
              "    <g>\n",
              "        <path d=\"M19 3H5c-1.1 0-2 .9-2 2v14c0 1.1.9 2 2 2h14c1.1 0 2-.9 2-2V5c0-1.1-.9-2-2-2zM9 17H7v-7h2v7zm4 0h-2V7h2v10zm4 0h-2v-4h2v4z\"/>\n",
              "    </g>\n",
              "</svg>\n",
              "  </button>\n",
              "\n",
              "<style>\n",
              "  .colab-df-quickchart {\n",
              "      --bg-color: #E8F0FE;\n",
              "      --fill-color: #1967D2;\n",
              "      --hover-bg-color: #E2EBFA;\n",
              "      --hover-fill-color: #174EA6;\n",
              "      --disabled-fill-color: #AAA;\n",
              "      --disabled-bg-color: #DDD;\n",
              "  }\n",
              "\n",
              "  [theme=dark] .colab-df-quickchart {\n",
              "      --bg-color: #3B4455;\n",
              "      --fill-color: #D2E3FC;\n",
              "      --hover-bg-color: #434B5C;\n",
              "      --hover-fill-color: #FFFFFF;\n",
              "      --disabled-bg-color: #3B4455;\n",
              "      --disabled-fill-color: #666;\n",
              "  }\n",
              "\n",
              "  .colab-df-quickchart {\n",
              "    background-color: var(--bg-color);\n",
              "    border: none;\n",
              "    border-radius: 50%;\n",
              "    cursor: pointer;\n",
              "    display: none;\n",
              "    fill: var(--fill-color);\n",
              "    height: 32px;\n",
              "    padding: 0;\n",
              "    width: 32px;\n",
              "  }\n",
              "\n",
              "  .colab-df-quickchart:hover {\n",
              "    background-color: var(--hover-bg-color);\n",
              "    box-shadow: 0 1px 2px rgba(60, 64, 67, 0.3), 0 1px 3px 1px rgba(60, 64, 67, 0.15);\n",
              "    fill: var(--button-hover-fill-color);\n",
              "  }\n",
              "\n",
              "  .colab-df-quickchart-complete:disabled,\n",
              "  .colab-df-quickchart-complete:disabled:hover {\n",
              "    background-color: var(--disabled-bg-color);\n",
              "    fill: var(--disabled-fill-color);\n",
              "    box-shadow: none;\n",
              "  }\n",
              "\n",
              "  .colab-df-spinner {\n",
              "    border: 2px solid var(--fill-color);\n",
              "    border-color: transparent;\n",
              "    border-bottom-color: var(--fill-color);\n",
              "    animation:\n",
              "      spin 1s steps(1) infinite;\n",
              "  }\n",
              "\n",
              "  @keyframes spin {\n",
              "    0% {\n",
              "      border-color: transparent;\n",
              "      border-bottom-color: var(--fill-color);\n",
              "      border-left-color: var(--fill-color);\n",
              "    }\n",
              "    20% {\n",
              "      border-color: transparent;\n",
              "      border-left-color: var(--fill-color);\n",
              "      border-top-color: var(--fill-color);\n",
              "    }\n",
              "    30% {\n",
              "      border-color: transparent;\n",
              "      border-left-color: var(--fill-color);\n",
              "      border-top-color: var(--fill-color);\n",
              "      border-right-color: var(--fill-color);\n",
              "    }\n",
              "    40% {\n",
              "      border-color: transparent;\n",
              "      border-right-color: var(--fill-color);\n",
              "      border-top-color: var(--fill-color);\n",
              "    }\n",
              "    60% {\n",
              "      border-color: transparent;\n",
              "      border-right-color: var(--fill-color);\n",
              "    }\n",
              "    80% {\n",
              "      border-color: transparent;\n",
              "      border-right-color: var(--fill-color);\n",
              "      border-bottom-color: var(--fill-color);\n",
              "    }\n",
              "    90% {\n",
              "      border-color: transparent;\n",
              "      border-bottom-color: var(--fill-color);\n",
              "    }\n",
              "  }\n",
              "</style>\n",
              "\n",
              "  <script>\n",
              "    async function quickchart(key) {\n",
              "      const quickchartButtonEl =\n",
              "        document.querySelector('#' + key + ' button');\n",
              "      quickchartButtonEl.disabled = true;  // To prevent multiple clicks.\n",
              "      quickchartButtonEl.classList.add('colab-df-spinner');\n",
              "      try {\n",
              "        const charts = await google.colab.kernel.invokeFunction(\n",
              "            'suggestCharts', [key], {});\n",
              "      } catch (error) {\n",
              "        console.error('Error during call to suggestCharts:', error);\n",
              "      }\n",
              "      quickchartButtonEl.classList.remove('colab-df-spinner');\n",
              "      quickchartButtonEl.classList.add('colab-df-quickchart-complete');\n",
              "    }\n",
              "    (() => {\n",
              "      let quickchartButtonEl =\n",
              "        document.querySelector('#df-5a12c09e-4b57-41ec-be55-83030cd4b05c button');\n",
              "      quickchartButtonEl.style.display =\n",
              "        google.colab.kernel.accessAllowed ? 'block' : 'none';\n",
              "    })();\n",
              "  </script>\n",
              "</div>\n",
              "\n",
              "    </div>\n",
              "  </div>\n"
            ],
            "application/vnd.google.colaboratory.intrinsic+json": {
              "type": "dataframe",
              "variable_name": "df_t",
              "summary": "{\n  \"name\": \"df_t\",\n  \"rows\": 84,\n  \"fields\": [\n    {\n      \"column\": \"start_station_name\",\n      \"properties\": {\n        \"dtype\": \"string\",\n        \"num_unique_values\": 84,\n        \"samples\": [\n          \"Riverview Park\",\n          \"11 St & Washington St\",\n          \"Madison St & 10 St\"\n        ],\n        \"semantic_type\": \"\",\n        \"description\": \"\"\n      }\n    },\n    {\n      \"column\": \"value\",\n      \"properties\": {\n        \"dtype\": \"number\",\n        \"std\": 7581,\n        \"min\": 2,\n        \"max\": 42556,\n        \"num_unique_values\": 83,\n        \"samples\": [\n          6546,\n          15502,\n          23289\n        ],\n        \"semantic_type\": \"\",\n        \"description\": \"\"\n      }\n    }\n  ]\n}"
            }
          },
          "metadata": {},
          "execution_count": 11
        }
      ]
    },
    {
      "cell_type": "code",
      "source": [
        "df_t.shape"
      ],
      "metadata": {
        "colab": {
          "base_uri": "https://localhost:8080/"
        },
        "id": "AGye0BdL2caj",
        "outputId": "6a7ba1cf-a0df-4a5d-b19d-71ac6fdfad7f"
      },
      "execution_count": null,
      "outputs": [
        {
          "output_type": "execute_result",
          "data": {
            "text/plain": [
              "(84, 2)"
            ]
          },
          "metadata": {},
          "execution_count": 12
        }
      ]
    },
    {
      "cell_type": "code",
      "source": [
        "df_t = df_t.merge(df2[['start_station_name','start_lat','start_lng']], on = 'start_station_name', how = 'left')"
      ],
      "metadata": {
        "id": "Ks-NBSzM2gJB"
      },
      "execution_count": null,
      "outputs": []
    },
    {
      "cell_type": "code",
      "source": [
        "df_t.shape"
      ],
      "metadata": {
        "colab": {
          "base_uri": "https://localhost:8080/"
        },
        "id": "6NVI43JN2ixz",
        "outputId": "a4fab4c1-5772-4b7b-e378-32811ba6f0b4"
      },
      "execution_count": null,
      "outputs": [
        {
          "output_type": "execute_result",
          "data": {
            "text/plain": [
              "(895475, 4)"
            ]
          },
          "metadata": {},
          "execution_count": 14
        }
      ]
    },
    {
      "cell_type": "code",
      "source": [
        "df_t.head()"
      ],
      "metadata": {
        "colab": {
          "base_uri": "https://localhost:8080/",
          "height": 206
        },
        "id": "LX7kzLfb2k4G",
        "outputId": "ae2f6bf1-8c3c-4f1c-866c-f648558050ec"
      },
      "execution_count": null,
      "outputs": [
        {
          "output_type": "execute_result",
          "data": {
            "text/plain": [
              "      start_station_name  value  start_lat  start_lng\n",
              "0  11 St & Washington St  15502  40.749985  -74.02715\n",
              "1  11 St & Washington St  15502  40.749985  -74.02715\n",
              "2  11 St & Washington St  15502  40.749985  -74.02715\n",
              "3  11 St & Washington St  15502  40.749985  -74.02715\n",
              "4  11 St & Washington St  15502  40.749985  -74.02715"
            ],
            "text/html": [
              "\n",
              "  <div id=\"df-b566911a-4efb-433e-9d45-88a16174eca2\" class=\"colab-df-container\">\n",
              "    <div>\n",
              "<style scoped>\n",
              "    .dataframe tbody tr th:only-of-type {\n",
              "        vertical-align: middle;\n",
              "    }\n",
              "\n",
              "    .dataframe tbody tr th {\n",
              "        vertical-align: top;\n",
              "    }\n",
              "\n",
              "    .dataframe thead th {\n",
              "        text-align: right;\n",
              "    }\n",
              "</style>\n",
              "<table border=\"1\" class=\"dataframe\">\n",
              "  <thead>\n",
              "    <tr style=\"text-align: right;\">\n",
              "      <th></th>\n",
              "      <th>start_station_name</th>\n",
              "      <th>value</th>\n",
              "      <th>start_lat</th>\n",
              "      <th>start_lng</th>\n",
              "    </tr>\n",
              "  </thead>\n",
              "  <tbody>\n",
              "    <tr>\n",
              "      <th>0</th>\n",
              "      <td>11 St &amp; Washington St</td>\n",
              "      <td>15502</td>\n",
              "      <td>40.749985</td>\n",
              "      <td>-74.02715</td>\n",
              "    </tr>\n",
              "    <tr>\n",
              "      <th>1</th>\n",
              "      <td>11 St &amp; Washington St</td>\n",
              "      <td>15502</td>\n",
              "      <td>40.749985</td>\n",
              "      <td>-74.02715</td>\n",
              "    </tr>\n",
              "    <tr>\n",
              "      <th>2</th>\n",
              "      <td>11 St &amp; Washington St</td>\n",
              "      <td>15502</td>\n",
              "      <td>40.749985</td>\n",
              "      <td>-74.02715</td>\n",
              "    </tr>\n",
              "    <tr>\n",
              "      <th>3</th>\n",
              "      <td>11 St &amp; Washington St</td>\n",
              "      <td>15502</td>\n",
              "      <td>40.749985</td>\n",
              "      <td>-74.02715</td>\n",
              "    </tr>\n",
              "    <tr>\n",
              "      <th>4</th>\n",
              "      <td>11 St &amp; Washington St</td>\n",
              "      <td>15502</td>\n",
              "      <td>40.749985</td>\n",
              "      <td>-74.02715</td>\n",
              "    </tr>\n",
              "  </tbody>\n",
              "</table>\n",
              "</div>\n",
              "    <div class=\"colab-df-buttons\">\n",
              "\n",
              "  <div class=\"colab-df-container\">\n",
              "    <button class=\"colab-df-convert\" onclick=\"convertToInteractive('df-b566911a-4efb-433e-9d45-88a16174eca2')\"\n",
              "            title=\"Convert this dataframe to an interactive table.\"\n",
              "            style=\"display:none;\">\n",
              "\n",
              "  <svg xmlns=\"http://www.w3.org/2000/svg\" height=\"24px\" viewBox=\"0 -960 960 960\">\n",
              "    <path d=\"M120-120v-720h720v720H120Zm60-500h600v-160H180v160Zm220 220h160v-160H400v160Zm0 220h160v-160H400v160ZM180-400h160v-160H180v160Zm440 0h160v-160H620v160ZM180-180h160v-160H180v160Zm440 0h160v-160H620v160Z\"/>\n",
              "  </svg>\n",
              "    </button>\n",
              "\n",
              "  <style>\n",
              "    .colab-df-container {\n",
              "      display:flex;\n",
              "      gap: 12px;\n",
              "    }\n",
              "\n",
              "    .colab-df-convert {\n",
              "      background-color: #E8F0FE;\n",
              "      border: none;\n",
              "      border-radius: 50%;\n",
              "      cursor: pointer;\n",
              "      display: none;\n",
              "      fill: #1967D2;\n",
              "      height: 32px;\n",
              "      padding: 0 0 0 0;\n",
              "      width: 32px;\n",
              "    }\n",
              "\n",
              "    .colab-df-convert:hover {\n",
              "      background-color: #E2EBFA;\n",
              "      box-shadow: 0px 1px 2px rgba(60, 64, 67, 0.3), 0px 1px 3px 1px rgba(60, 64, 67, 0.15);\n",
              "      fill: #174EA6;\n",
              "    }\n",
              "\n",
              "    .colab-df-buttons div {\n",
              "      margin-bottom: 4px;\n",
              "    }\n",
              "\n",
              "    [theme=dark] .colab-df-convert {\n",
              "      background-color: #3B4455;\n",
              "      fill: #D2E3FC;\n",
              "    }\n",
              "\n",
              "    [theme=dark] .colab-df-convert:hover {\n",
              "      background-color: #434B5C;\n",
              "      box-shadow: 0px 1px 3px 1px rgba(0, 0, 0, 0.15);\n",
              "      filter: drop-shadow(0px 1px 2px rgba(0, 0, 0, 0.3));\n",
              "      fill: #FFFFFF;\n",
              "    }\n",
              "  </style>\n",
              "\n",
              "    <script>\n",
              "      const buttonEl =\n",
              "        document.querySelector('#df-b566911a-4efb-433e-9d45-88a16174eca2 button.colab-df-convert');\n",
              "      buttonEl.style.display =\n",
              "        google.colab.kernel.accessAllowed ? 'block' : 'none';\n",
              "\n",
              "      async function convertToInteractive(key) {\n",
              "        const element = document.querySelector('#df-b566911a-4efb-433e-9d45-88a16174eca2');\n",
              "        const dataTable =\n",
              "          await google.colab.kernel.invokeFunction('convertToInteractive',\n",
              "                                                    [key], {});\n",
              "        if (!dataTable) return;\n",
              "\n",
              "        const docLinkHtml = 'Like what you see? Visit the ' +\n",
              "          '<a target=\"_blank\" href=https://colab.research.google.com/notebooks/data_table.ipynb>data table notebook</a>'\n",
              "          + ' to learn more about interactive tables.';\n",
              "        element.innerHTML = '';\n",
              "        dataTable['output_type'] = 'display_data';\n",
              "        await google.colab.output.renderOutput(dataTable, element);\n",
              "        const docLink = document.createElement('div');\n",
              "        docLink.innerHTML = docLinkHtml;\n",
              "        element.appendChild(docLink);\n",
              "      }\n",
              "    </script>\n",
              "  </div>\n",
              "\n",
              "\n",
              "<div id=\"df-3541040d-6555-4373-91a1-d86641dd1d44\">\n",
              "  <button class=\"colab-df-quickchart\" onclick=\"quickchart('df-3541040d-6555-4373-91a1-d86641dd1d44')\"\n",
              "            title=\"Suggest charts\"\n",
              "            style=\"display:none;\">\n",
              "\n",
              "<svg xmlns=\"http://www.w3.org/2000/svg\" height=\"24px\"viewBox=\"0 0 24 24\"\n",
              "     width=\"24px\">\n",
              "    <g>\n",
              "        <path d=\"M19 3H5c-1.1 0-2 .9-2 2v14c0 1.1.9 2 2 2h14c1.1 0 2-.9 2-2V5c0-1.1-.9-2-2-2zM9 17H7v-7h2v7zm4 0h-2V7h2v10zm4 0h-2v-4h2v4z\"/>\n",
              "    </g>\n",
              "</svg>\n",
              "  </button>\n",
              "\n",
              "<style>\n",
              "  .colab-df-quickchart {\n",
              "      --bg-color: #E8F0FE;\n",
              "      --fill-color: #1967D2;\n",
              "      --hover-bg-color: #E2EBFA;\n",
              "      --hover-fill-color: #174EA6;\n",
              "      --disabled-fill-color: #AAA;\n",
              "      --disabled-bg-color: #DDD;\n",
              "  }\n",
              "\n",
              "  [theme=dark] .colab-df-quickchart {\n",
              "      --bg-color: #3B4455;\n",
              "      --fill-color: #D2E3FC;\n",
              "      --hover-bg-color: #434B5C;\n",
              "      --hover-fill-color: #FFFFFF;\n",
              "      --disabled-bg-color: #3B4455;\n",
              "      --disabled-fill-color: #666;\n",
              "  }\n",
              "\n",
              "  .colab-df-quickchart {\n",
              "    background-color: var(--bg-color);\n",
              "    border: none;\n",
              "    border-radius: 50%;\n",
              "    cursor: pointer;\n",
              "    display: none;\n",
              "    fill: var(--fill-color);\n",
              "    height: 32px;\n",
              "    padding: 0;\n",
              "    width: 32px;\n",
              "  }\n",
              "\n",
              "  .colab-df-quickchart:hover {\n",
              "    background-color: var(--hover-bg-color);\n",
              "    box-shadow: 0 1px 2px rgba(60, 64, 67, 0.3), 0 1px 3px 1px rgba(60, 64, 67, 0.15);\n",
              "    fill: var(--button-hover-fill-color);\n",
              "  }\n",
              "\n",
              "  .colab-df-quickchart-complete:disabled,\n",
              "  .colab-df-quickchart-complete:disabled:hover {\n",
              "    background-color: var(--disabled-bg-color);\n",
              "    fill: var(--disabled-fill-color);\n",
              "    box-shadow: none;\n",
              "  }\n",
              "\n",
              "  .colab-df-spinner {\n",
              "    border: 2px solid var(--fill-color);\n",
              "    border-color: transparent;\n",
              "    border-bottom-color: var(--fill-color);\n",
              "    animation:\n",
              "      spin 1s steps(1) infinite;\n",
              "  }\n",
              "\n",
              "  @keyframes spin {\n",
              "    0% {\n",
              "      border-color: transparent;\n",
              "      border-bottom-color: var(--fill-color);\n",
              "      border-left-color: var(--fill-color);\n",
              "    }\n",
              "    20% {\n",
              "      border-color: transparent;\n",
              "      border-left-color: var(--fill-color);\n",
              "      border-top-color: var(--fill-color);\n",
              "    }\n",
              "    30% {\n",
              "      border-color: transparent;\n",
              "      border-left-color: var(--fill-color);\n",
              "      border-top-color: var(--fill-color);\n",
              "      border-right-color: var(--fill-color);\n",
              "    }\n",
              "    40% {\n",
              "      border-color: transparent;\n",
              "      border-right-color: var(--fill-color);\n",
              "      border-top-color: var(--fill-color);\n",
              "    }\n",
              "    60% {\n",
              "      border-color: transparent;\n",
              "      border-right-color: var(--fill-color);\n",
              "    }\n",
              "    80% {\n",
              "      border-color: transparent;\n",
              "      border-right-color: var(--fill-color);\n",
              "      border-bottom-color: var(--fill-color);\n",
              "    }\n",
              "    90% {\n",
              "      border-color: transparent;\n",
              "      border-bottom-color: var(--fill-color);\n",
              "    }\n",
              "  }\n",
              "</style>\n",
              "\n",
              "  <script>\n",
              "    async function quickchart(key) {\n",
              "      const quickchartButtonEl =\n",
              "        document.querySelector('#' + key + ' button');\n",
              "      quickchartButtonEl.disabled = true;  // To prevent multiple clicks.\n",
              "      quickchartButtonEl.classList.add('colab-df-spinner');\n",
              "      try {\n",
              "        const charts = await google.colab.kernel.invokeFunction(\n",
              "            'suggestCharts', [key], {});\n",
              "      } catch (error) {\n",
              "        console.error('Error during call to suggestCharts:', error);\n",
              "      }\n",
              "      quickchartButtonEl.classList.remove('colab-df-spinner');\n",
              "      quickchartButtonEl.classList.add('colab-df-quickchart-complete');\n",
              "    }\n",
              "    (() => {\n",
              "      let quickchartButtonEl =\n",
              "        document.querySelector('#df-3541040d-6555-4373-91a1-d86641dd1d44 button');\n",
              "      quickchartButtonEl.style.display =\n",
              "        google.colab.kernel.accessAllowed ? 'block' : 'none';\n",
              "    })();\n",
              "  </script>\n",
              "</div>\n",
              "\n",
              "    </div>\n",
              "  </div>\n"
            ],
            "application/vnd.google.colaboratory.intrinsic+json": {
              "type": "dataframe",
              "variable_name": "df_t"
            }
          },
          "metadata": {},
          "execution_count": 15
        }
      ]
    },
    {
      "cell_type": "code",
      "source": [
        "df_t = df_t.drop_duplicates(subset = 'start_station_name').reset_index(drop = True)"
      ],
      "metadata": {
        "id": "Em8jPkJ72n77"
      },
      "execution_count": null,
      "outputs": []
    },
    {
      "cell_type": "code",
      "source": [
        "df_t.head()"
      ],
      "metadata": {
        "colab": {
          "base_uri": "https://localhost:8080/",
          "height": 206
        },
        "id": "F8hF_BPR2q9B",
        "outputId": "9c79aebe-479f-4eeb-81e0-5eef513e534f"
      },
      "execution_count": null,
      "outputs": [
        {
          "output_type": "execute_result",
          "data": {
            "text/plain": [
              "                  start_station_name  value  start_lat  start_lng\n",
              "0              11 St & Washington St  15502  40.749985 -74.027150\n",
              "1               12 St & Sinatra Dr N  17137  40.750604 -74.024020\n",
              "2  14 St Ferry - 14 St & Shipyard Ln  17066  40.752961 -74.024353\n",
              "3                    4 St & Grand St  10356  40.742258 -74.035111\n",
              "4                  5 Corners Library   3043  40.734961 -74.059503"
            ],
            "text/html": [
              "\n",
              "  <div id=\"df-0080d1d3-afda-4298-a73d-56ff2fa0a41e\" class=\"colab-df-container\">\n",
              "    <div>\n",
              "<style scoped>\n",
              "    .dataframe tbody tr th:only-of-type {\n",
              "        vertical-align: middle;\n",
              "    }\n",
              "\n",
              "    .dataframe tbody tr th {\n",
              "        vertical-align: top;\n",
              "    }\n",
              "\n",
              "    .dataframe thead th {\n",
              "        text-align: right;\n",
              "    }\n",
              "</style>\n",
              "<table border=\"1\" class=\"dataframe\">\n",
              "  <thead>\n",
              "    <tr style=\"text-align: right;\">\n",
              "      <th></th>\n",
              "      <th>start_station_name</th>\n",
              "      <th>value</th>\n",
              "      <th>start_lat</th>\n",
              "      <th>start_lng</th>\n",
              "    </tr>\n",
              "  </thead>\n",
              "  <tbody>\n",
              "    <tr>\n",
              "      <th>0</th>\n",
              "      <td>11 St &amp; Washington St</td>\n",
              "      <td>15502</td>\n",
              "      <td>40.749985</td>\n",
              "      <td>-74.027150</td>\n",
              "    </tr>\n",
              "    <tr>\n",
              "      <th>1</th>\n",
              "      <td>12 St &amp; Sinatra Dr N</td>\n",
              "      <td>17137</td>\n",
              "      <td>40.750604</td>\n",
              "      <td>-74.024020</td>\n",
              "    </tr>\n",
              "    <tr>\n",
              "      <th>2</th>\n",
              "      <td>14 St Ferry - 14 St &amp; Shipyard Ln</td>\n",
              "      <td>17066</td>\n",
              "      <td>40.752961</td>\n",
              "      <td>-74.024353</td>\n",
              "    </tr>\n",
              "    <tr>\n",
              "      <th>3</th>\n",
              "      <td>4 St &amp; Grand St</td>\n",
              "      <td>10356</td>\n",
              "      <td>40.742258</td>\n",
              "      <td>-74.035111</td>\n",
              "    </tr>\n",
              "    <tr>\n",
              "      <th>4</th>\n",
              "      <td>5 Corners Library</td>\n",
              "      <td>3043</td>\n",
              "      <td>40.734961</td>\n",
              "      <td>-74.059503</td>\n",
              "    </tr>\n",
              "  </tbody>\n",
              "</table>\n",
              "</div>\n",
              "    <div class=\"colab-df-buttons\">\n",
              "\n",
              "  <div class=\"colab-df-container\">\n",
              "    <button class=\"colab-df-convert\" onclick=\"convertToInteractive('df-0080d1d3-afda-4298-a73d-56ff2fa0a41e')\"\n",
              "            title=\"Convert this dataframe to an interactive table.\"\n",
              "            style=\"display:none;\">\n",
              "\n",
              "  <svg xmlns=\"http://www.w3.org/2000/svg\" height=\"24px\" viewBox=\"0 -960 960 960\">\n",
              "    <path d=\"M120-120v-720h720v720H120Zm60-500h600v-160H180v160Zm220 220h160v-160H400v160Zm0 220h160v-160H400v160ZM180-400h160v-160H180v160Zm440 0h160v-160H620v160ZM180-180h160v-160H180v160Zm440 0h160v-160H620v160Z\"/>\n",
              "  </svg>\n",
              "    </button>\n",
              "\n",
              "  <style>\n",
              "    .colab-df-container {\n",
              "      display:flex;\n",
              "      gap: 12px;\n",
              "    }\n",
              "\n",
              "    .colab-df-convert {\n",
              "      background-color: #E8F0FE;\n",
              "      border: none;\n",
              "      border-radius: 50%;\n",
              "      cursor: pointer;\n",
              "      display: none;\n",
              "      fill: #1967D2;\n",
              "      height: 32px;\n",
              "      padding: 0 0 0 0;\n",
              "      width: 32px;\n",
              "    }\n",
              "\n",
              "    .colab-df-convert:hover {\n",
              "      background-color: #E2EBFA;\n",
              "      box-shadow: 0px 1px 2px rgba(60, 64, 67, 0.3), 0px 1px 3px 1px rgba(60, 64, 67, 0.15);\n",
              "      fill: #174EA6;\n",
              "    }\n",
              "\n",
              "    .colab-df-buttons div {\n",
              "      margin-bottom: 4px;\n",
              "    }\n",
              "\n",
              "    [theme=dark] .colab-df-convert {\n",
              "      background-color: #3B4455;\n",
              "      fill: #D2E3FC;\n",
              "    }\n",
              "\n",
              "    [theme=dark] .colab-df-convert:hover {\n",
              "      background-color: #434B5C;\n",
              "      box-shadow: 0px 1px 3px 1px rgba(0, 0, 0, 0.15);\n",
              "      filter: drop-shadow(0px 1px 2px rgba(0, 0, 0, 0.3));\n",
              "      fill: #FFFFFF;\n",
              "    }\n",
              "  </style>\n",
              "\n",
              "    <script>\n",
              "      const buttonEl =\n",
              "        document.querySelector('#df-0080d1d3-afda-4298-a73d-56ff2fa0a41e button.colab-df-convert');\n",
              "      buttonEl.style.display =\n",
              "        google.colab.kernel.accessAllowed ? 'block' : 'none';\n",
              "\n",
              "      async function convertToInteractive(key) {\n",
              "        const element = document.querySelector('#df-0080d1d3-afda-4298-a73d-56ff2fa0a41e');\n",
              "        const dataTable =\n",
              "          await google.colab.kernel.invokeFunction('convertToInteractive',\n",
              "                                                    [key], {});\n",
              "        if (!dataTable) return;\n",
              "\n",
              "        const docLinkHtml = 'Like what you see? Visit the ' +\n",
              "          '<a target=\"_blank\" href=https://colab.research.google.com/notebooks/data_table.ipynb>data table notebook</a>'\n",
              "          + ' to learn more about interactive tables.';\n",
              "        element.innerHTML = '';\n",
              "        dataTable['output_type'] = 'display_data';\n",
              "        await google.colab.output.renderOutput(dataTable, element);\n",
              "        const docLink = document.createElement('div');\n",
              "        docLink.innerHTML = docLinkHtml;\n",
              "        element.appendChild(docLink);\n",
              "      }\n",
              "    </script>\n",
              "  </div>\n",
              "\n",
              "\n",
              "<div id=\"df-f2b8f466-00a8-45c6-82b1-123e02ad6082\">\n",
              "  <button class=\"colab-df-quickchart\" onclick=\"quickchart('df-f2b8f466-00a8-45c6-82b1-123e02ad6082')\"\n",
              "            title=\"Suggest charts\"\n",
              "            style=\"display:none;\">\n",
              "\n",
              "<svg xmlns=\"http://www.w3.org/2000/svg\" height=\"24px\"viewBox=\"0 0 24 24\"\n",
              "     width=\"24px\">\n",
              "    <g>\n",
              "        <path d=\"M19 3H5c-1.1 0-2 .9-2 2v14c0 1.1.9 2 2 2h14c1.1 0 2-.9 2-2V5c0-1.1-.9-2-2-2zM9 17H7v-7h2v7zm4 0h-2V7h2v10zm4 0h-2v-4h2v4z\"/>\n",
              "    </g>\n",
              "</svg>\n",
              "  </button>\n",
              "\n",
              "<style>\n",
              "  .colab-df-quickchart {\n",
              "      --bg-color: #E8F0FE;\n",
              "      --fill-color: #1967D2;\n",
              "      --hover-bg-color: #E2EBFA;\n",
              "      --hover-fill-color: #174EA6;\n",
              "      --disabled-fill-color: #AAA;\n",
              "      --disabled-bg-color: #DDD;\n",
              "  }\n",
              "\n",
              "  [theme=dark] .colab-df-quickchart {\n",
              "      --bg-color: #3B4455;\n",
              "      --fill-color: #D2E3FC;\n",
              "      --hover-bg-color: #434B5C;\n",
              "      --hover-fill-color: #FFFFFF;\n",
              "      --disabled-bg-color: #3B4455;\n",
              "      --disabled-fill-color: #666;\n",
              "  }\n",
              "\n",
              "  .colab-df-quickchart {\n",
              "    background-color: var(--bg-color);\n",
              "    border: none;\n",
              "    border-radius: 50%;\n",
              "    cursor: pointer;\n",
              "    display: none;\n",
              "    fill: var(--fill-color);\n",
              "    height: 32px;\n",
              "    padding: 0;\n",
              "    width: 32px;\n",
              "  }\n",
              "\n",
              "  .colab-df-quickchart:hover {\n",
              "    background-color: var(--hover-bg-color);\n",
              "    box-shadow: 0 1px 2px rgba(60, 64, 67, 0.3), 0 1px 3px 1px rgba(60, 64, 67, 0.15);\n",
              "    fill: var(--button-hover-fill-color);\n",
              "  }\n",
              "\n",
              "  .colab-df-quickchart-complete:disabled,\n",
              "  .colab-df-quickchart-complete:disabled:hover {\n",
              "    background-color: var(--disabled-bg-color);\n",
              "    fill: var(--disabled-fill-color);\n",
              "    box-shadow: none;\n",
              "  }\n",
              "\n",
              "  .colab-df-spinner {\n",
              "    border: 2px solid var(--fill-color);\n",
              "    border-color: transparent;\n",
              "    border-bottom-color: var(--fill-color);\n",
              "    animation:\n",
              "      spin 1s steps(1) infinite;\n",
              "  }\n",
              "\n",
              "  @keyframes spin {\n",
              "    0% {\n",
              "      border-color: transparent;\n",
              "      border-bottom-color: var(--fill-color);\n",
              "      border-left-color: var(--fill-color);\n",
              "    }\n",
              "    20% {\n",
              "      border-color: transparent;\n",
              "      border-left-color: var(--fill-color);\n",
              "      border-top-color: var(--fill-color);\n",
              "    }\n",
              "    30% {\n",
              "      border-color: transparent;\n",
              "      border-left-color: var(--fill-color);\n",
              "      border-top-color: var(--fill-color);\n",
              "      border-right-color: var(--fill-color);\n",
              "    }\n",
              "    40% {\n",
              "      border-color: transparent;\n",
              "      border-right-color: var(--fill-color);\n",
              "      border-top-color: var(--fill-color);\n",
              "    }\n",
              "    60% {\n",
              "      border-color: transparent;\n",
              "      border-right-color: var(--fill-color);\n",
              "    }\n",
              "    80% {\n",
              "      border-color: transparent;\n",
              "      border-right-color: var(--fill-color);\n",
              "      border-bottom-color: var(--fill-color);\n",
              "    }\n",
              "    90% {\n",
              "      border-color: transparent;\n",
              "      border-bottom-color: var(--fill-color);\n",
              "    }\n",
              "  }\n",
              "</style>\n",
              "\n",
              "  <script>\n",
              "    async function quickchart(key) {\n",
              "      const quickchartButtonEl =\n",
              "        document.querySelector('#' + key + ' button');\n",
              "      quickchartButtonEl.disabled = true;  // To prevent multiple clicks.\n",
              "      quickchartButtonEl.classList.add('colab-df-spinner');\n",
              "      try {\n",
              "        const charts = await google.colab.kernel.invokeFunction(\n",
              "            'suggestCharts', [key], {});\n",
              "      } catch (error) {\n",
              "        console.error('Error during call to suggestCharts:', error);\n",
              "      }\n",
              "      quickchartButtonEl.classList.remove('colab-df-spinner');\n",
              "      quickchartButtonEl.classList.add('colab-df-quickchart-complete');\n",
              "    }\n",
              "    (() => {\n",
              "      let quickchartButtonEl =\n",
              "        document.querySelector('#df-f2b8f466-00a8-45c6-82b1-123e02ad6082 button');\n",
              "      quickchartButtonEl.style.display =\n",
              "        google.colab.kernel.accessAllowed ? 'block' : 'none';\n",
              "    })();\n",
              "  </script>\n",
              "</div>\n",
              "\n",
              "    </div>\n",
              "  </div>\n"
            ],
            "application/vnd.google.colaboratory.intrinsic+json": {
              "type": "dataframe",
              "variable_name": "df_t",
              "summary": "{\n  \"name\": \"df_t\",\n  \"rows\": 84,\n  \"fields\": [\n    {\n      \"column\": \"start_station_name\",\n      \"properties\": {\n        \"dtype\": \"string\",\n        \"num_unique_values\": 84,\n        \"samples\": [\n          \"Riverview Park\",\n          \"11 St & Washington St\",\n          \"Madison St & 10 St\"\n        ],\n        \"semantic_type\": \"\",\n        \"description\": \"\"\n      }\n    },\n    {\n      \"column\": \"value\",\n      \"properties\": {\n        \"dtype\": \"number\",\n        \"std\": 7581,\n        \"min\": 2,\n        \"max\": 42556,\n        \"num_unique_values\": 83,\n        \"samples\": [\n          6546,\n          15502,\n          23289\n        ],\n        \"semantic_type\": \"\",\n        \"description\": \"\"\n      }\n    },\n    {\n      \"column\": \"start_lat\",\n      \"properties\": {\n        \"dtype\": \"number\",\n        \"std\": 0.013151245579192426,\n        \"min\": 40.70657545063453,\n        \"max\": 40.75453,\n        \"num_unique_values\": 84,\n        \"samples\": [\n          40.7443187,\n          40.74998490907138,\n          40.74994325412246\n        ],\n        \"semantic_type\": \"\",\n        \"description\": \"\"\n      }\n    },\n    {\n      \"column\": \"start_lng\",\n      \"properties\": {\n        \"dtype\": \"number\",\n        \"std\": 0.016249988984194472,\n        \"min\": -74.08896387030836,\n        \"max\": -74.02402013540268,\n        \"num_unique_values\": 84,\n        \"samples\": [\n          -74.0439909,\n          -74.02715027332306,\n          -74.03586477041245\n        ],\n        \"semantic_type\": \"\",\n        \"description\": \"\"\n      }\n    }\n  ]\n}"
            }
          },
          "metadata": {},
          "execution_count": 17
        }
      ]
    },
    {
      "cell_type": "code",
      "source": [
        "df_t.shape"
      ],
      "metadata": {
        "colab": {
          "base_uri": "https://localhost:8080/"
        },
        "id": "v1xld_2r2uiE",
        "outputId": "1481dc3f-41d8-4e27-9e6c-3b3686707aff"
      },
      "execution_count": null,
      "outputs": [
        {
          "output_type": "execute_result",
          "data": {
            "text/plain": [
              "(84, 4)"
            ]
          },
          "metadata": {},
          "execution_count": 18
        }
      ]
    },
    {
      "cell_type": "code",
      "source": [
        "df_t.to_csv('/content/drive/MyDrive/NY_Citi_Bikes/start_stations.csv')"
      ],
      "metadata": {
        "id": "U5R-o_-y2yW9"
      },
      "execution_count": null,
      "outputs": []
    },
    {
      "cell_type": "code",
      "source": [
        "df_top100 = df.nlargest(100,'trips')"
      ],
      "metadata": {
        "id": "oSXQj7Iu2_8R"
      },
      "execution_count": null,
      "outputs": []
    },
    {
      "cell_type": "code",
      "source": [
        "df_top100.to_csv('/content/drive/MyDrive/NY_Citi_Bikes/top100.csv')"
      ],
      "metadata": {
        "id": "zRqhoGZb3GJc"
      },
      "execution_count": null,
      "outputs": []
    },
    {
      "cell_type": "code",
      "source": [
        "from google.colab import output\n",
        "output.enable_custom_widget_manager()"
      ],
      "metadata": {
        "id": "v7Q2uV103Rhk"
      },
      "execution_count": null,
      "outputs": []
    },
    {
      "cell_type": "code",
      "source": [
        "# Create KeplerGl instance\n",
        "\n",
        "m = KeplerGl(height = 700, data={\"data_1\": df_top100, \"start_stations\": df_t})\n",
        "m\n"
      ],
      "metadata": {
        "colab": {
          "base_uri": "https://localhost:8080/",
          "height": 721,
          "referenced_widgets": [
            "e325e357e86a46c2a574868a26b2ba0f",
            "067456934c264dfdb8ac324838a92344"
          ]
        },
        "id": "kxsAMMXT3Do7",
        "outputId": "dd7defe9-c59c-4d98-f077-d20f3de75710"
      },
      "execution_count": null,
      "outputs": [
        {
          "output_type": "stream",
          "name": "stdout",
          "text": [
            "User Guide: https://docs.kepler.gl/docs/keplergl-jupyter\n"
          ]
        },
        {
          "output_type": "display_data",
          "data": {
            "text/plain": [
              "KeplerGl(data={'data_1':                                             origin  \\\n",
              "3657      Hoboken Terminal - Hu…"
            ],
            "application/vnd.jupyter.widget-view+json": {
              "version_major": 2,
              "version_minor": 0,
              "model_id": "e325e357e86a46c2a574868a26b2ba0f"
            }
          },
          "metadata": {
            "application/vnd.jupyter.widget-view+json": {
              "colab": {
                "custom_widget_manager": {
                  "url": "https://ssl.gstatic.com/colaboratory-static/widgets/colab-cdn-widget-manager/2b70e893a8ba7c0f/manager.min.js"
                }
              }
            }
          }
        }
      ]
    },
    {
      "cell_type": "markdown",
      "source": [
        "## Kepler.gl Configuration Details\n",
        "#### The configuration settings in Kepler.gl enable the map to provide insightful and interactive data visualizations. Here are some of the key settings configured for this map:\n",
        "## Layer Customization\n",
        "#### Two layers were created:\n",
        "#### **Top 100 Stations** (`df_top100`), which highlights the most frequently used Citi Bike stations based on the trip count.\n",
        "#### **All Start Stations** (`df_t`), which provides a broader context by showing all start stations.\n",
        "#### These layers allow for easy comparison between the most popular stations and the full set of stations.\n",
        "## Color Scheme\n",
        "#### A **color gradient** has been applied to show variations in trip counts. High-traffic stations are represented with darker colors, helping users quickly identify areas of high usage. This color contrast enhances the map’s readability and allows users to easily spot clusters of highly utilized stations.\n",
        "## Filters\n",
        "#### Filters can be applied to zoom into specific timeframes or select stations based on certain attributes (e.g., number of trips). This feature enhances the map’s ability to focus on particular subsets of data, making the analysis more targeted and interactive.\n",
        "## Interactive Features\n",
        "#### The map is interactive, allowing users to click on stations to view detailed information in **tooltips**. For example, users can see the exact number of trips for a specific station, which provides additional context beyond what is visible on the map.\n",
        "## View Settings\n",
        "#### The map’s zoom and pitch have been adjusted to focus on key areas in New York City, such as Midtown and the Financial District, where high-traffic bike stations are located. The map’s perspective provides a 3D view that makes it easier to interpret the distribution and concentration of stations across the city."
      ],
      "metadata": {
        "id": "wDj6A8JQUmrW"
      }
    },
    {
      "cell_type": "code",
      "source": [
        "config = m.config"
      ],
      "metadata": {
        "id": "2dbLdn6o3Uxo"
      },
      "execution_count": null,
      "outputs": []
    },
    {
      "cell_type": "code",
      "source": [
        "# Example of multiple filters with clear labels\n",
        "filter_config = {\n",
        "    \"filters\": [\n",
        "        {\n",
        "            \"name\": \"Most Frequent Trips\",\n",
        "            \"type\": \"range\",\n",
        "            \"field\": \"trips\",  # Field representing trip counts\n",
        "            \"min\": 0,\n",
        "            \"max\": 10000,\n",
        "            \"description\": \"Filter stations with the most frequent trips\"\n",
        "        },\n",
        "        {\n",
        "            \"name\": \"Stations with High Traffic\",\n",
        "            \"type\": \"range\",\n",
        "            \"field\": \"trips\",\n",
        "            \"min\": 500,  # Minimum trip count for high traffic\n",
        "            \"max\": 10000,\n",
        "            \"description\": \"Filter stations with high traffic\"\n",
        "        },\n",
        "        {\n",
        "            \"name\": \"Peak Hour Stations\",\n",
        "            \"type\": \"range\",\n",
        "            \"field\": \"hour\",  # Assuming you have an \"hour\" field indicating time of day\n",
        "            \"min\": 7,  # Morning rush hour (7 AM)\n",
        "            \"max\": 9,  # Morning rush hour (9 AM)\n",
        "            \"description\": \"Filter stations during peak hours (7 AM to 9 AM)\"\n",
        "        }\n",
        "    ]\n",
        "}"
      ],
      "metadata": {
        "id": "7365QZ-sa_CN"
      },
      "execution_count": null,
      "outputs": []
    },
    {
      "cell_type": "code",
      "source": [
        "# Merge this filter config with the existing map configuration\n",
        "m.config['filters'] = filter_config['filters']"
      ],
      "metadata": {
        "id": "IOWOSinbbFaX"
      },
      "execution_count": null,
      "outputs": []
    },
    {
      "cell_type": "code",
      "source": [
        "# Save the updated configuration\n",
        "import json\n",
        "with open(\"/content/drive/MyDrive/NY_Citi_Bikes/updated_config_with_filters.json\", \"w\") as outfile:\n",
        "    json.dump(m.config, outfile)"
      ],
      "metadata": {
        "id": "G4KN522wbJ2f"
      },
      "execution_count": null,
      "outputs": []
    },
    {
      "cell_type": "code",
      "source": [
        "# Save map in html\n",
        "m.save_to_html(file_name = '/content/drive/MyDrive/NY_Citi_Bikes/NYC_Citi_Bikes_Map.html', read_only = False, config = config)"
      ],
      "metadata": {
        "colab": {
          "base_uri": "https://localhost:8080/"
        },
        "id": "nHhLJ8jGcGB2",
        "outputId": "dce6d6c1-679a-47a8-ae3c-da6f97dd9729"
      },
      "execution_count": null,
      "outputs": [
        {
          "output_type": "stream",
          "name": "stdout",
          "text": [
            "Map saved to /content/drive/MyDrive/NY_Citi_Bikes/NYC_Citi_Bikes_Map.html!\n"
          ]
        }
      ]
    },
    {
      "cell_type": "markdown",
      "source": [
        "##  Map Interpretation\n",
        "#### The map above displays the top 100 Citi Bike stations based on the number of trips. From the map, we can identify several high-traffic zones where stations are clustered. These clusters indicate areas with higher bike usage, which may be due to the proximity to key attractions, transportation hubs, or residential areas. Notably, we can see a significant concentration of high-trip stations in Midtown Manhattan and near popular tourist destinations.\n",
        "## High-Traffic Zones\n",
        "#### Midtown Manhattan, including the area around Times Square and Grand Central, has several high-use stations.\n",
        "#### Areas near Central Park also show high bike usage, which could be due to tourists and park visitors.\n",
        "#### The Financial District also has a high density of stations, indicating commuters use bikes for short-distance travel.\n",
        "## Peak Usage Times\n",
        "#### Given the city’s nature, we might infer that the stations around business districts (e.g., Midtown, Financial District) are likely to have peak usage during morning and evening rush hours, catering to commuters.\n",
        "#### In contrast, stations near parks or tourist destinations might see more consistent usage throughout the day, with peaks during midday when tourists visit these areas."
      ],
      "metadata": {
        "id": "744HRE2_3iki"
      }
    },
    {
      "cell_type": "markdown",
      "source": [],
      "metadata": {
        "id": "WtRI1_bITado"
      }
    },
    {
      "cell_type": "markdown",
      "source": [],
      "metadata": {
        "id": "oFow-qQSSYds"
      }
    }
  ]
}